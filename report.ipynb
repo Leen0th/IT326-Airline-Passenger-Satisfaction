{
  "cells": [
    {
      "cell_type": "markdown",
      "metadata": {},
      "source": [
        "# Airline Passenger Satisfaction dataset description"
      ]
    },
    {
      "cell_type": "markdown",
      "metadata": {},
      "source": [
        "## Problem\n",
        "Airline passenger satisfaction can be complex and multifaceted, influenced by various factors across different stages of the travel experience:\n",
        "1. Passengers have diverse preferences and expectations regarding airline travel. This diversity makes it challenging for airlines to meet the needs and preferences of all passengers simultaneously.\n",
        "2. Service quality can vary widely across different airlines, routes, aircraft types, and even individual flights. Factors such as crew behavior, cleanliness, on-time performance, seat comfort, and food quality can all impact passenger satisfaction. Maintaining consistent service quality across diverse operations can be challenging for airlines.\n",
        "3. Airlines face numerous operational challenges affecting passenger satisfaction, such as flight delays, cancellations, overbooking, lost luggage, and customer service issues, which are sometimes beyond the airline's control."
      ]
    },
    {
      "cell_type": "markdown",
      "metadata": {},
      "source": [
        "## Data mining tasks\n",
        "Our project primarily aims to understand customer satisfaction and identify the factors that influence it in the airline industry. We aim to uncover patterns, relationships, and areas for improvement related to customer satisfaction. Our task is to classify customers' travel patterns based on satisfaction levels, focusing on the differences between personal and business travel and between business and economy class. By analyzing factors such as travel purpose and seating class, we'll determine if business travelers are more satisfied and if the service class affects satisfaction. We will also use clustering to analyze the impact of various service quality factors on customer satisfaction, such as departure delay and arrival delay in minutes. We aim to group customers based on their satisfaction levels and service quality ratings to identify segments with similar preferences and experiences. This analysis will provide valuable insights into the key drivers of satisfaction and guide targeted improvements to enhance the overall customer experience."
      ]
    },
    {
      "cell_type": "markdown",
      "metadata": {},
      "source": [
        "## The goal of collecting this dataset\n",
        "Understanding and improving airline passenger satisfaction by analyzing the data is crucial for an airline to attract and retain customers, build brand loyalty, and differentiate itself in a competitive market by addressing these challenges and listing the issues found to brainstorm solutions, then ordering them by its effect on the airline to tackle; which would enhance the overall travel experience and drive long-term success."
      ]
    },
    {
      "cell_type": "markdown",
      "metadata": {},
      "source": [
        "## Dataset source\n",
        "The source: [click here](https://www.kaggle.com/datasets/teejmahal20/airline-passenger-satisfaction/data) \n",
        "\n",
        "The sample: [click here](https://studentksuedu-my.sharepoint.com/:x:/g/personal/443200417_student_ksu_edu_sa/Ec3dYaSbv1RGmES0SjVtsOwBloVBn_6aO17v7ZuLztfLow?e=5tZlSF)"
      ]
    },
    {
      "cell_type": "markdown",
      "metadata": {},
      "source": [
        "Classification: Predicting Customer Satisfaction, where we will attemp to create a model that predicts whether a customer was Satisfied or Unsatisfied with the experience and/or service which an airline provided.\n",
        "\n",
        "Clustering:\n",
        "Clustering customer survey responses involves grouping similar data points based on common characteristics to establish distinct clusters. Different techniques will be employed to identify the optimal number of clusters that align with our dataset. Subsequently, evaluation methods will be applied to gauge the efficacy of these clusters in effectively categorizing survey responses based on their intrinsic features, facilitating insightful predictions and analysis.\n",
        "\n",
        "Defect Prediction:\n",
        "Defect prediction in a dataset of customer survey responses involves identifying potential issues or anomalies within the collected data. This process encompasses the detection of inconsistencies or irregularities in survey responses, including the identification of missing or unreliable data points, which can impact the reliability of the dataset. By employing advanced data analysis techniques, defect prediction aims to enhance the overall quality and dependability of the dataset, ensuring it accurately captures the intended information from survey participants. This proactive approach reduces the risk of generating misleading or unreliable outcomes when utilizing the dataset for subsequent tasks and applications, such as predictive modeling or trend analysis based on customer feedback."
      ]
    }
  ],
  "metadata": {
    "kernelspec": {
      "display_name": "Python (Pyodide)",
      "language": "python",
      "name": "python"
    },
    "language_info": {
      "codemirror_mode": {
        "name": "python",
        "version": 3
      },
      "file_extension": ".py",
      "mimetype": "text/x-python",
      "name": "python",
      "nbconvert_exporter": "python",
      "pygments_lexer": "ipython3",
      "version": "3.8"
    }
  },
  "nbformat": 4,
  "nbformat_minor": 4
}
