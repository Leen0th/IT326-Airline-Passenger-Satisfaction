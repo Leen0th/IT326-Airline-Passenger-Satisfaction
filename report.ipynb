{
  "cells": [
    {
      "cell_type": "markdown",
      "metadata": {},
      "source": [
        "# Airline Passenger Satisfaction dataset description"
      ]
    },
    {
      "cell_type": "markdown",
      "metadata": {},
      "source": [
        "## Problem\n",
        "Airline passenger satisfaction can be complex and multifaceted, influenced by various factors across different stages of the travel experience:\n",
        "1. Passengers have diverse preferences and expectations regarding airline travel. This diversity makes it challenging for airlines to meet the needs and preferences of all passengers simultaneously.\n",
        "2. Service quality can vary widely across different airlines, routes, aircraft types, and even individual flights. Factors such as crew behavior, cleanliness, on-time performance, seat comfort, and food quality can all impact passenger satisfaction. Maintaining consistent service quality across diverse operations can be challenging for airlines.\n",
        "3. Airlines face numerous operational challenges affecting passenger satisfaction, such as flight delays, cancellations, overbooking, lost luggage, and customer service issues, which are sometimes beyond the airline's control."
      ]
    },
    {
      "cell_type": "markdown",
      "metadata": {},
      "source": [
        "## Data mining tasks\n",
        "Our project primarily aims to understand customer satisfaction and identify the factors that influence it in the airline industry. We aim to uncover patterns, relationships, and areas for improvement related to customer satisfaction. Our task is to classify customers' travel patterns based on satisfaction levels, focusing on the differences between personal and business travel and between business and economy class. By analyzing factors such as travel purpose and seating class, we'll determine if business travelers are more satisfied and if the service class affects satisfaction. We will also use clustering to analyze the impact of various service quality factors on customer satisfaction, such as departure delay and arrival delay in minutes. We aim to group customers based on their satisfaction levels and service quality ratings to identify segments with similar preferences and experiences. This analysis will provide valuable insights into the key drivers of satisfaction and guide targeted improvements to enhance the overall customer experience."
      ]
    },
    {
      "cell_type": "markdown",
      "metadata": {},
      "source": [
        "## The goal of collecting this dataset\n",
        "Understanding and improving airline passenger satisfaction by analyzing the data is crucial for an airline to attract and retain customers, build brand loyalty, and differentiate itself in a competitive market by addressing these challenges and listing the issues found to brainstorm solutions, then ordering them by its effect on the airline to tackle; which would enhance the overall travel experience and drive long-term success."
      ]
    },
    {
      "cell_type": "markdown",
      "metadata": {},
      "source": [
        "## Dataset source\n",
        "The source: [click here](https://www.kaggle.com/datasets/teejmahal20/airline-passenger-satisfaction/data) \n",
        "\n",
        "The sample: [click here](https://studentksuedu-my.sharepoint.com/:x:/g/personal/443200417_student_ksu_edu_sa/Ec3dYaSbv1RGmES0SjVtsOwBloVBn_6aO17v7ZuLztfLow?e=5tZlSF)"
      ]
    },
    {
      "cell_type": "markdown",
      "metadata": {},
      "source": [
        "Classification: Predicting Customer Satisfaction, where we will attemp to create a model that predicts whether a customer was Satisfied or Unsatisfied with the experience and/or service which an airline provided.\n",
        "\n",
        "Clustering:\n",
        "Clustering customer survey responses involves grouping similar data points based on common characteristics to establish distinct clusters. Different techniques will be employed to identify the optimal number of clusters that align with our dataset. Subsequently, evaluation methods will be applied to gauge the efficacy of these clusters in effectively categorizing survey responses based on their intrinsic features, facilitating insightful predictions and analysis.\n",
        "\n",
        "Defect Prediction:\n",
        "Defect prediction in a dataset of customer survey responses involves identifying potential issues or anomalies within the collected data. This process encompasses the detection of inconsistencies or irregularities in survey responses, including the identification of missing or unreliable data points, which can impact the reliability of the dataset. By employing advanced data analysis techniques, defect prediction aims to enhance the overall quality and dependability of the dataset, ensuring it accurately captures the intended information from survey participants. This proactive approach reduces the risk of generating misleading or unreliable outcomes when utilizing the dataset for subsequent tasks and applications, such as predictive modeling or trend analysis based on customer feedback."
      ]
    },
    {
      "cell_type": "markdown",
      "metadata": {},
      "source": []
    },
    {
      "cell_type": "markdown",
      "metadata": {},
      "source": [
        "##General information\n",
        "\n",
        "Number of Attributes :24 , Number of Object:500,Class lable: satisfaction has tow level Satisfaction if the passenger is satisfied,neutral or dissatisfaction if not .\n",
        "\n",
        "1-id : Unique identifier for the passenger \n",
        "2- Gender:Gender of the passengers (Female, Male)\n",
        "3- Customer Type:The customer type (Loyal customer, disloyal customer)\n",
        "4- Age:The actual age of the passengers\n",
        "5- Type of Travel:Purpose of the flight of the passengers (Personal Travel, Business Travel)\"\n",
        "6-Class:Travel class in the plane of the passengers (Business, Eco, Eco Plus)\n",
        "7- Flight distance:The flight distance of this journey\n",
        "8- \"Inflight wifi service:Satisfaction level of the inflight wifi service (0:Not Applicable;1-5)\"\n",
        "9= Departure/Arrival time convenient : Satisfaction level of Departure/Arrival time convenient\n",
        "10- Ease of Online booking:Satisfaction level of online booking\n",
        "11- Gate location : Satisfaction level of Gate location\n",
        "12- Food and drink : Satisfaction level of Food and drink\n",
        "13- Online boarding:Satisfaction level of online boarding\n",
        "14- Seat comfort : Satisfaction level of Seat comfort\n",
        "15- Inflight entertainment : Satisfaction level of inflight entertainment\n",
        "16- On-board service : Satisfaction level of On-board service\n",
        "17- Leg room service : Satisfaction level of Leg room service\n",
        "18- Baggage handling : Satisfaction level of baggage handling\n",
        "19- Check-in service : Satisfaction level of Check-in service\n",
        "20- Inflight service:Satisfaction level of inflight service\n",
        "21- Cleanliness : Satisfaction level of Cleanliness\n",
        "22- Departure Delay in Minutes : Minutes delayed when departure\n",
        "23- Arrival Delay in Minutes : Minutes delayed when Arrival\n",
        "24- Satisfaction:Airline satisfaction level(Satisfaction, neutral or dissatisfaction)\n"
      ]
    },
    {
      "cell_type": "code",
      "execution_count": 4,
      "metadata": {},
      "outputs": [
        {
          "ename": "SyntaxError",
          "evalue": "invalid syntax (2649843405.py, line 1)",
          "output_type": "error",
          "traceback": [
            "\u001b[0;36m  Cell \u001b[0;32mIn[4], line 1\u001b[0;36m\u001b[0m\n\u001b[0;31m    | Attribute Name                     | Data Type | Description                                                               | Possible Values                                            |\u001b[0m\n\u001b[0m    ^\u001b[0m\n\u001b[0;31mSyntaxError\u001b[0m\u001b[0;31m:\u001b[0m invalid syntax\n"
          ]
        }
      ],
      "source": []
    }
  ],
  "metadata": {
    "kernelspec": {
      "display_name": "Python 3",
      "language": "python",
      "name": "python3"
    },
    "language_info": {
      "codemirror_mode": {
        "name": "ipython",
        "version": 3
      },
      "file_extension": ".py",
      "mimetype": "text/x-python",
      "name": "python",
      "nbconvert_exporter": "python",
      "pygments_lexer": "ipython3",
      "version": "3.9.6"
    }
  },
  "nbformat": 4,
  "nbformat_minor": 4
}
