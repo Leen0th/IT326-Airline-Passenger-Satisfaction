{
  "metadata": {
    "kernelspec": {
      "name": "python",
      "display_name": "Python (Pyodide)",
      "language": "python"
    },
    "language_info": {
      "codemirror_mode": {
        "name": "python",
        "version": 3
      },
      "file_extension": ".py",
      "mimetype": "text/x-python",
      "name": "python",
      "nbconvert_exporter": "python",
      "pygments_lexer": "ipython3",
      "version": "3.8"
    }
  },
  "nbformat_minor": 4,
  "nbformat": 4,
  "cells": [
    {
      "cell_type": "markdown",
      "source": "Classification: Predicting Customer Satisfaction, where we will attemp to create a model that predicts whether a customer was Satisfied or Unsatisfied with the experience and/or service which an airline provided.\n\nClustering:\nClustering customer survey responses involves grouping similar data points based on common characteristics to establish distinct clusters. Different techniques will be employed to identify the optimal number of clusters that align with our dataset. Subsequently, evaluation methods will be applied to gauge the efficacy of these clusters in effectively categorizing survey responses based on their intrinsic features, facilitating insightful predictions and analysis.\n\nDefect Prediction:\nDefect prediction in a dataset of customer survey responses involves identifying potential issues or anomalies within the collected data. This process encompasses the detection of inconsistencies or irregularities in survey responses, including the identification of missing or unreliable data points, which can impact the reliability of the dataset. By employing advanced data analysis techniques, defect prediction aims to enhance the overall quality and dependability of the dataset, ensuring it accurately captures the intended information from survey participants. This proactive approach reduces the risk of generating misleading or unreliable outcomes when utilizing the dataset for subsequent tasks and applications, such as predictive modeling or trend analysis based on customer feedback.",
      "metadata": {}
    }
  ]
}