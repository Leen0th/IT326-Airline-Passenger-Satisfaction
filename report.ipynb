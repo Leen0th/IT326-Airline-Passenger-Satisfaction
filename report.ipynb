{
  "cells": [
    {
      "cell_type": "markdown",
      "metadata": {},
      "source": [
        "# Airline Passenger Satisfaction dataset description"
      ]
    },
    {
      "cell_type": "markdown",
      "metadata": {},
      "source": [
        "## Problem\n",
        "Airline passenger satisfaction can be complex and multifaceted, influenced by various factors across different stages of the travel experience:\n",
        "1. Passengers have diverse preferences and expectations regarding airline travel. This diversity makes it challenging for airlines to meet the needs and preferences of all passengers simultaneously.\n",
        "2. Service quality can vary widely across different airlines, routes, aircraft types, and even individual flights. Factors such as crew behavior, cleanliness, on-time performance, seat comfort, and food quality can all impact passenger satisfaction. Maintaining consistent service quality across diverse operations can be challenging for airlines.\n",
        "3. Airlines face numerous operational challenges affecting passenger satisfaction, such as flight delays, cancellations, overbooking, lost luggage, and customer service issues, which are sometimes beyond the airline's control."
      ]
    },
    {
      "cell_type": "markdown",
      "metadata": {},
      "source": [
        "## Data mining tasks\n",
        "Our project primarily aims to understand customer satisfaction and identify the factors that influence it in the airline industry. We aim to uncover patterns, relationships, and areas for improvement related to customer satisfaction. Our task is to classify customers' travel patterns based on satisfaction levels, focusing on the differences between personal and business travel and between business and economy class. By analyzing factors such as travel purpose and seating class, we'll determine if business travelers are more satisfied and if the service class affects satisfaction. We will also use clustering to analyze the impact of various service quality factors on customer satisfaction, such as departure delay and arrival delay in minutes. We aim to group customers based on their satisfaction levels and service quality ratings to identify segments with similar preferences and experiences. This analysis will provide valuable insights into the key drivers of satisfaction and guide targeted improvements to enhance the overall customer experience."
      ]
    },
    {
      "cell_type": "markdown",
      "metadata": {},
      "source": [
        "## The goal of collecting this dataset\n",
        "Understanding and improving airline passenger satisfaction by analyzing the data is crucial for an airline to attract and retain customers, build brand loyalty, and differentiate itself in a competitive market by addressing these challenges and listing the issues found to brainstorm solutions, then ordering them by its effect on the airline to tackle; which would enhance the overall travel experience and drive long-term success."
      ]
    },
    {
      "cell_type": "markdown",
      "metadata": {},
      "source": [
        "## Dataset source\n",
        "The source: [click here](https://www.kaggle.com/datasets/teejmahal20/airline-passenger-satisfaction/data) \n",
        "\n",
        "The sample: [click here](https://studentksuedu-my.sharepoint.com/:x:/g/personal/443200417_student_ksu_edu_sa/Ec3dYaSbv1RGmES0SjVtsOwBloVBn_6aO17v7ZuLztfLow?e=5tZlSF)"
      ]
    },
    {
      "cell_type": "markdown",
      "metadata": {},
      "source": [
        "Classification: Predicting Customer Satisfaction, where we will attemp to create a model that predicts whether a customer was Satisfied or Unsatisfied with the experience and/or service which an airline provided.\n",
        "\n",
        "Clustering:\n",
        "Clustering customer survey responses involves grouping similar data points based on common characteristics to establish distinct clusters. Different techniques will be employed to identify the optimal number of clusters that align with our dataset. Subsequently, evaluation methods will be applied to gauge the efficacy of these clusters in effectively categorizing survey responses based on their intrinsic features, facilitating insightful predictions and analysis.\n",
        "\n",
        "Defect Prediction:\n",
        "Defect prediction in a dataset of customer survey responses involves identifying potential issues or anomalies within the collected data. This process encompasses the detection of inconsistencies or irregularities in survey responses, including the identification of missing or unreliable data points, which can impact the reliability of the dataset. By employing advanced data analysis techniques, defect prediction aims to enhance the overall quality and dependability of the dataset, ensuring it accurately captures the intended information from survey participants. This proactive approach reduces the risk of generating misleading or unreliable outcomes when utilizing the dataset for subsequent tasks and applications, such as predictive modeling or trend analysis based on customer feedback."
      ]
    },
    {
      "cell_type": "markdown",
      "metadata": {},
      "source": []
    },
    {
      "cell_type": "markdown",
      "metadata": {},
      "source": []
    },
    {
      "cell_type": "markdown",
      "metadata": {},
      "source": [
        "##General information\n",
        "\n",
        "Number of Attributes :24 , Number of Object:500,Class lable: satisfaction has tow level Satisfaction if the passenger is satisfied,neutral or dissatisfaction if not .\n",
        "\n",
        "1-id : Unique identifier for the passenger \n",
        "2- Gender:Gender of the passengers (Female, Male)\n",
        "3- Customer Type:The customer type (Loyal customer, disloyal customer)\n",
        "4- Age:The actual age of the passengers\n",
        "5- Type of Travel:Purpose of the flight of the passengers (Personal Travel, Business Travel)\"\n",
        "6-Class:Travel class in the plane of the passengers (Business, Eco, Eco Plus)\n",
        "7- Flight distance:The flight distance of this journey\n",
        "8- \"Inflight wifi service:Satisfaction level of the inflight wifi service (0:Not Applicable;1-5)\"\n",
        "9= Departure/Arrival time convenient : Satisfaction level of Departure/Arrival time convenient\n",
        "10- Ease of Online booking:Satisfaction level of online booking\n",
        "11- Gate location : Satisfaction level of Gate location\n",
        "12- Food and drink : Satisfaction level of Food and drink\n",
        "13- Online boarding:Satisfaction level of online boarding\n",
        "14- Seat comfort : Satisfaction level of Seat comfort\n",
        "15- Inflight entertainment : Satisfaction level of inflight entertainment\n",
        "16- On-board service : Satisfaction level of On-board service\n",
        "17- Leg room service : Satisfaction level of Leg room service\n",
        "18- Baggage handling : Satisfaction level of baggage handling\n",
        "19- Check-in service : Satisfaction level of Check-in service\n",
        "20- Inflight service:Satisfaction level of inflight service\n",
        "21- Cleanliness : Satisfaction level of Cleanliness\n",
        "22- Departure Delay in Minutes : Minutes delayed when departure\n",
        "23- Arrival Delay in Minutes : Minutes delayed when Arrival\n",
        "24- Satisfaction:Airline satisfaction level(Satisfaction, neutral or dissatisfaction)\n"
      ]
    },
    {
      "cell_type": "code",
      "execution_count": null,
      "metadata": {},
      "outputs": [],
      "source": [
        "\n",
        "| Attribute Name                     | Data Type | Description                                                               | Possible Values                                            |\n",
        "|------------------------------------|-----------|---------------------------------------------------------------------------|------------------------------------------------------------|\n",
        "| id                                 | Integer   | Unique identifier for the passenger                                       | Numeric IDs                                                |\n",
        "| Gender                             | String    | Gender of the passenger                                                   | Male, Female                                               |\n",
        "| Customer Type                      | String    | Type of the customer                                                      | Loyal Customer, disloyal Customer                          |\n",
        "| Age                                | Integer   | Age of the passenger                                                      | Numeric ages                                               |\n",
        "| Type of Travel                     | String    | Purpose of the flight                                                     | Business travel, Personal Travel                           |\n",
        "| Class                              | String    | Class of the flight                                                       | Eco, Business, Eco Plus                                    |\n",
        "| Flight Distance                    | Integer   | Distance of the flight                                                    | Numeric distances  31 to 4983                              |\n",
        "| Inflight wifi service              | Integer   | Satisfaction level with inflight wifi service                             | 0 to 5                                                     |\n",
        "| Departure/Arrival time convenient  | Integer   | Satisfaction level with departure/arrival time convenience                | 0 to 5                                                     |\n",
        "| Ease of Online booking             | Integer   | Satisfaction level with online booking ease                               | 0 to 5                                                     |\n",
        "| Gate location                      | Integer   | Satisfaction level with gate location                                     | 0 to 5                                                     |\n",
        "| Food and drink                     | Integer   | Satisfaction level with food and drink                                    | 0 to 5                                                     |\n",
        "| Online boarding                    | Integer   | Satisfaction level with online boarding                                   | 0 to 5                                                     |\n",
        "| Seat comfort                       | Integer   | Satisfaction level with seat comfort                                      | 0 to 5                                                     |\n",
        "| Inflight entertainment             | Integer   | Satisfaction level with inflight entertainment                            | 0 to 5                                                     |\n",
        "| On-board service                   | Integer   | Satisfaction level with on-board service                                  | 0 to 5                                                     |\n",
        "| Leg room service                   | Integer   | Satisfaction level with leg room service                                  | 0 to 5                                                     |\n",
        "| Baggage handling                   | Integer   | Satisfaction level with baggage handling                                  | 0 to 5                                                     |\n",
        "| Checkin service                    | Integer   | Satisfaction level with checkin service                                   | 0 to 5                                                     |\n",
        "| Inflight service                   | Integer   | Satisfaction level with inflight service                                  | 0 to 5                                                     |\n",
        "| Cleanliness                        | Integer   | Satisfaction level with cleanliness                                       | 0 to 5                                                     |\n",
        "| Departure Delay in Minutes         | Integer   | Minutes delayed at departure                                              | Numeric minutes 0-1592                                     |\n",
        "| Arrival Delay in Minutes           | Integer   | Minutes delayed on arrival                                                | Numeric minutes 0-158000                                   |\n",
        "| satisfaction                       | String    | Overall satisfaction with the flight                                      | satisfied, neutral or dissatisfied                         |\n"
      ]
    }
  ],
  "metadata": {
    "kernelspec": {
      "display_name": "Python (Pyodide)",
      "language": "python",
      "name": "python"
    },
    "language_info": {
      "codemirror_mode": {
        "name": "python",
        "version": 3
      },
      "file_extension": ".py",
      "mimetype": "text/x-python",
      "name": "python",
      "nbconvert_exporter": "python",
      "pygments_lexer": "ipython3",
      "version": "3.8"
    }
  },
  "nbformat": 4,
  "nbformat_minor": 4
}
