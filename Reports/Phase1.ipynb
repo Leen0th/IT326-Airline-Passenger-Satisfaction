{
  "metadata": {
    "kernelspec": {
      "display_name": "Python (Pyodide)",
      "language": "python",
      "name": "python"
    },
    "language_info": {
      "codemirror_mode": {
        "name": "python",
        "version": 3
      },
      "file_extension": ".py",
      "mimetype": "text/x-python",
      "name": "python",
      "nbconvert_exporter": "python",
      "pygments_lexer": "ipython3",
      "version": "3.8"
    }
  },
  "nbformat_minor": 4,
  "nbformat": 4,
  "cells": [
    {
      "cell_type": "markdown",
      "source": "# Airline Passenger Satisfaction dataset description\n# phase 1",
      "metadata": {}
    },
    {
      "cell_type": "markdown",
      "source": "## The goal of collecting this dataset\nUnderstanding and improving airline passenger satisfaction by analyzing the data is crucial for an airline to attract and retain customers, build brand loyalty, and differentiate itself in a competitive market by addressing these challenges and listing the issues found to brainstorm solutions, then ordering them by its effect on the airline to tackle; which would enhance the overall travel experience and drive long-term success.\n\n## Dataset source\nThe source: [click here](https://www.kaggle.com/datasets/teejmahal20/airline-passenger-satisfaction/data) \n\n\n## Classification for  airline passengers Survey Prediction:\nInvolves using survey data attributes to predict customer satisfaction levels. The goal is to categorize respondents into predefined satisfaction categories: satisfied, neutral or dissatisfied. This classification aids in understanding customer sentiment and guiding decision-making to improve overall satisfaction.\n\n## Clustering for Customer Survey Prediction: \nClustering customer survey responses involves grouping similar data points based on common characteristics to establish distinct clusters. Different techniques will be employed to identify the optimal number of clusters that align with our dataset. Subsequently, evaluation methods will be applied to measure the efficiency of these clusters in effectively categorizing survey responses based on their intrinsic features, facilitating insightful predictions and analysis for futer decisions.\n",
      "metadata": {}
    },
    {
      "cell_type": "code",
      "source": "import pandas as pd\nimport numpy as np\nimport matplotlib.pyplot as plt\nfrom sklearn.preprocessing import LabelEncoder\nfrom sklearn.preprocessing import MinMaxScaler\nfrom sklearn.preprocessing import StandardScaler\nfrom sklearn.preprocessing import scale\nfrom sklearn.cluster import KMeans\nfrom sklearn.metrics import silhouette_score\n\n\n\ndataset=pd.read_csv('../ProjectDM/Airline_Passenger_Satisfaction.csv')\npreprocess=pd.read_csv('../ProjectDM/Pre-processed_Airline_Passenger_Satisfaction.csv')",
      "metadata": {
        "trusted": true
      },
      "outputs": [],
      "execution_count": null
    },
    {
      "cell_type": "code",
      "source": "df=pd.DataFrame(dataset) \ndfp=pd.DataFrame(preprocess) ",
      "metadata": {
        "trusted": true
      },
      "outputs": [],
      "execution_count": null
    },
    {
      "cell_type": "markdown",
      "source": "## General information of the dataset:",
      "metadata": {}
    },
    {
      "cell_type": "markdown",
      "source": "Number of Attributes: 24\n\nNumber of Object: 500\n\nClass Lable: Satisfaction\n\n\n1- ID: Unique identifier for the passenger \n\n2- Gender: Gender of the passengers (Female, Male)\n\n3- Customer Type: The customer type (Loyal customer, disloyal customer)\n\n4- Age: The actual age of the passengers\n\n5- Type of Travel: Purpose of the flight of the passengers (Personal Travel, Business Travel)\"\n\n6- Class: Travel class in the plane of the passengers (Business, Eco, Eco Plus)\n\n7- Flight distance: The flight distance of this journey\n\n8- Inflight wifi service: Satisfaction level of the inflight wifi service (0:Not Applicable;1-5)\n\n9- Departure/Arrival time convenient: Satisfaction level of Departure/Arrival time convenient\n\n10- Ease of Online booking: Satisfaction level of online booking\n\n11- Gate location: Satisfaction level of Gate location\n\n12- Food and drink: Satisfaction level of Food and drink\n\n13- Online boarding: Satisfaction level of online boarding\n\n14- Seat comfort: Satisfaction level of Seat comfort\n\n15- Inflight entertainment: Satisfaction level of inflight entertainment\n\n16- On-board service: Satisfaction level of On-board service\n\n17- Leg room service: Satisfaction level of Leg room service\n\n18- Baggage handling: Satisfaction level of baggage handling\n\n19- Check-in service: Satisfaction level of Check-in service\n\n20- Inflight service: Satisfaction level of inflight service\n\n21- Cleanliness: Satisfaction level of Cleanliness\n\n22- Departure Delay in Minutes: Minutes delayed when departure\n\n23- Arrival Delay in Minutes: Minutes delayed when Arrival\n\n24- Satisfaction: Airline satisfaction level(Satisfaction, neutral or dissatisfaction)",
      "metadata": {}
    },
    {
      "cell_type": "code",
      "source": "table = \"\"\"\n| Attribute Name                     | Data Type | Possible Values                                            |\n|------------------------------------|-----------|------------------------------------------------------------|\n| id                                 | Integer   | Numeric IDs                                                |\n| Gender                             | String    | Male, Female                                               |\n| Customer Type                      | String    | Loyal Customer, disloyal Customer                          |\n| Age                                | Integer   | Numeric ages                                               |\n| Type of Travel                     | String    | Business travel, Personal Travel                           |\n| Class                              | String    | Eco, Business, Eco Plus                                    |\n| Flight Distance                    | Integer   | Numeric distances  31 to 4983                              |\n| Inflight wifi service              | Integer   | 0 to 5                                                     |\n| Departure/Arrival time convenient  | Integer   | 0 to 5                                                     |\n| Ease of Online booking             | Integer   | 0 to 5                                                     |\n| Gate location                      | Integer   | 0 to 5                                                     |\n| Food and drink                     | Integer   | 0 to 5                                                     |\n| Online boarding                    | Integer   | 0 to 5                                                     |\n| Seat comfort                       | Integer   | 0 to 5                                                     |\n| Inflight entertainment             | Integer   | 0 to 5                                                     |\n| On-board service                   | Integer   | 0 to 5                                                     |\n| Leg room service                   | Integer   | 0 to 5                                                     |\n| Baggage handling                   | Integer   | 0 to 5                                                     |\n| Checkin service                    | Integer   | 0 to 5                                                     |\n| Inflight service                   | Integer   | 0 to 5                                                     |\n| Cleanliness                        | Integer   | 0 to 5                                                     |\n| Departure Delay in Minutes         | Integer   | Numeric minutes 0-1592                                     |\n| Arrival Delay in Minutes           | Integer   | Numeric minutes 0-158000                                   |\n| satisfaction                       | String    | satisfied, neutral or dissatisfied                         |\n\"\"\"\n\nprint(table)\n",
      "metadata": {
        "trusted": true
      },
      "outputs": [],
      "execution_count": null
    }
  ]
}