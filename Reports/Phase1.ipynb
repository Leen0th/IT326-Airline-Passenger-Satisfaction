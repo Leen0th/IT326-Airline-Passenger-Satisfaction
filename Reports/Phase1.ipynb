{
  "cells": [
    {
      "cell_type": "markdown",
      "metadata": {},
      "source": [
        "# Airline Passenger Satisfaction dataset description\n",
        "# phase 1"
      ]
    },
    {
      "cell_type": "markdown",
      "metadata": {},
      "source": [
        "## The goal of collecting this dataset\n",
        "Understanding and improving airline passenger satisfaction by analyzing the data is crucial for an airline to attract and retain customers, build brand loyalty, and differentiate itself in a competitive market by addressing these challenges and listing the issues found to brainstorm solutions, then ordering them by its effect on the airline to tackle; which would enhance the overall travel experience and drive long-term success.\n",
        "\n",
        "## Dataset source\n",
        "The source: [click here](https://www.kaggle.com/datasets/teejmahal20/airline-passenger-satisfaction/data) \n",
        "\n",
        "\n",
        "## Classification for  airline passengers Survey Prediction:\n",
        "Involves using survey data attributes to predict customer satisfaction levels. The goal is to categorize respondents into predefined satisfaction categories: satisfied, neutral or dissatisfied. This classification aids in understanding customer sentiment and guiding decision-making to improve overall satisfaction.\n",
        "\n",
        "## Clustering for Customer Survey Prediction: \n",
        "Clustering customer survey responses involves grouping similar data points based on common characteristics to establish distinct clusters. Different techniques will be employed to identify the optimal number of clusters that align with our dataset. Subsequently, evaluation methods will be applied to measure the efficiency of these clusters in effectively categorizing survey responses based on their intrinsic features, facilitating insightful predictions and analysis for future decisions.\n"
      ]
    },
    {
      "cell_type": "code",
      "execution_count": null,
      "metadata": {
        "trusted": true
      },
      "outputs": [],
      "source": [
        "import pandas as pd\n",
        "import numpy as np\n",
        "import matplotlib.pyplot as plt\n",
        "from sklearn.preprocessing import LabelEncoder\n",
        "from sklearn.preprocessing import MinMaxScaler\n",
        "from sklearn.preprocessing import StandardScaler\n",
        "from sklearn.preprocessing import scale\n",
        "from sklearn.cluster import KMeans\n",
        "from sklearn.metrics import silhouette_score\n",
        "\n",
        "\n",
        "\n",
        "dataset=pd.read_csv('../ProjectDM/Airline_Passenger_Satisfaction.csv')\n",
        "preprocess=pd.read_csv('../ProjectDM/Pre-processed_Airline_Passenger_Satisfaction.csv')"
      ]
    },
    {
      "cell_type": "code",
      "execution_count": null,
      "metadata": {
        "trusted": true
      },
      "outputs": [],
      "source": [
        "df=pd.DataFrame(dataset) \n",
        "dfp=pd.DataFrame(preprocess) "
      ]
    },
    {
      "cell_type": "markdown",
      "metadata": {},
      "source": [
        "## General information of the dataset:"
      ]
    },
    {
      "cell_type": "markdown",
      "metadata": {},
      "source": [
        "Number of Attributes: 24\n",
        "\n",
        "Number of Object: 500\n",
        "\n",
        "Class Lable: Satisfaction\n",
        "\n",
        "\n",
        "1- ID: Unique identifier for the passenger \n",
        "\n",
        "2- Gender: Gender of the passengers (Female, Male)\n",
        "\n",
        "3- Customer Type: The customer type (Loyal customer, disloyal customer)\n",
        "\n",
        "4- Age: The actual age of the passengers\n",
        "\n",
        "5- Type of Travel: Purpose of the flight of the passengers (Personal Travel, Business Travel)\"\n",
        "\n",
        "6- Class: Travel class in the plane of the passengers (Business, Eco, Eco Plus)\n",
        "\n",
        "7- Flight distance: The flight distance of this journey\n",
        "\n",
        "8- Inflight wifi service: Satisfaction level of the inflight wifi service (0:Not Applicable;1-5)\n",
        "\n",
        "9- Departure/Arrival time convenient: Satisfaction level of Departure/Arrival time convenient\n",
        "\n",
        "10- Ease of Online booking: Satisfaction level of online booking\n",
        "\n",
        "11- Gate location: Satisfaction level of Gate location\n",
        "\n",
        "12- Food and drink: Satisfaction level of Food and drink\n",
        "\n",
        "13- Online boarding: Satisfaction level of online boarding\n",
        "\n",
        "14- Seat comfort: Satisfaction level of Seat comfort\n",
        "\n",
        "15- Inflight entertainment: Satisfaction level of inflight entertainment\n",
        "\n",
        "16- On-board service: Satisfaction level of On-board service\n",
        "\n",
        "17- Leg room service: Satisfaction level of Leg room service\n",
        "\n",
        "18- Baggage handling: Satisfaction level of baggage handling\n",
        "\n",
        "19- Check-in service: Satisfaction level of Check-in service\n",
        "\n",
        "20- Inflight service: Satisfaction level of inflight service\n",
        "\n",
        "21- Cleanliness: Satisfaction level of Cleanliness\n",
        "\n",
        "22- Departure Delay in Minutes: Minutes delayed when departure\n",
        "\n",
        "23- Arrival Delay in Minutes: Minutes delayed when Arrival\n",
        "\n",
        "24- Satisfaction: Airline satisfaction level(Satisfaction, neutral or dissatisfaction)"
      ]
    },
    {
      "cell_type": "code",
      "execution_count": null,
      "metadata": {
        "trusted": true
      },
      "outputs": [],
      "source": [
        "table = \"\"\"\n",
        "| Attribute Name                     | Data Type | Possible Values                                            |\n",
        "|------------------------------------|-----------|------------------------------------------------------------|\n",
        "| id                                 | Integer   | Numeric IDs                                                |\n",
        "| Gender                             | String    | Male, Female                                               |\n",
        "| Customer Type                      | String    | Loyal Customer, disloyal Customer                          |\n",
        "| Age                                | Integer   | Numeric ages                                               |\n",
        "| Type of Travel                     | String    | Business travel, Personal Travel                           |\n",
        "| Class                              | String    | Eco, Business, Eco Plus                                    |\n",
        "| Flight Distance                    | Integer   | Numeric distances  31 to 4983                              |\n",
        "| Inflight wifi service              | Integer   | 0 to 5                                                     |\n",
        "| Departure/Arrival time convenient  | Integer   | 0 to 5                                                     |\n",
        "| Ease of Online booking             | Integer   | 0 to 5                                                     |\n",
        "| Gate location                      | Integer   | 0 to 5                                                     |\n",
        "| Food and drink                     | Integer   | 0 to 5                                                     |\n",
        "| Online boarding                    | Integer   | 0 to 5                                                     |\n",
        "| Seat comfort                       | Integer   | 0 to 5                                                     |\n",
        "| Inflight entertainment             | Integer   | 0 to 5                                                     |\n",
        "| On-board service                   | Integer   | 0 to 5                                                     |\n",
        "| Leg room service                   | Integer   | 0 to 5                                                     |\n",
        "| Baggage handling                   | Integer   | 0 to 5                                                     |\n",
        "| Checkin service                    | Integer   | 0 to 5                                                     |\n",
        "| Inflight service                   | Integer   | 0 to 5                                                     |\n",
        "| Cleanliness                        | Integer   | 0 to 5                                                     |\n",
        "| Departure Delay in Minutes         | Integer   | Numeric minutes 0-1592                                     |\n",
        "| Arrival Delay in Minutes           | Integer   | Numeric minutes 0-158000                                   |\n",
        "| satisfaction                       | String    | satisfied, neutral or dissatisfied                         |\n",
        "\"\"\"\n",
        "\n",
        "print(table)\n"
      ]
    }
  ],
  "metadata": {
    "kernelspec": {
      "display_name": "Python (Pyodide)",
      "language": "python",
      "name": "python"
    },
    "language_info": {
      "codemirror_mode": {
        "name": "python",
        "version": 3
      },
      "file_extension": ".py",
      "mimetype": "text/x-python",
      "name": "python",
      "nbconvert_exporter": "python",
      "pygments_lexer": "ipython3",
      "version": "3.8"
    }
  },
  "nbformat": 4,
  "nbformat_minor": 4
}
