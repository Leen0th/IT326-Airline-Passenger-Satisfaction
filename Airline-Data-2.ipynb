{
  "metadata": {
    "kernelspec": {
      "name": "python",
      "display_name": "Python (Pyodide)",
      "language": "python"
    },
    "language_info": {
      "codemirror_mode": {
        "name": "python",
        "version": 3
      },
      "file_extension": ".py",
      "mimetype": "text/x-python",
      "name": "python",
      "nbconvert_exporter": "python",
      "pygments_lexer": "ipython3",
      "version": "3.8"
    }
  },
  "nbformat_minor": 4,
  "nbformat": 4,
  "cells": [
    {
      "cell_type": "markdown",
      "source": "# Airline Passenger Satisfaction dataset description\n## The goal of collecting this dataset\nUnderstanding and improving airline passenger satisfaction by analyzing the data is crucial for an airline to attract and retain customers, build brand loyalty, and differentiate itself in a competitive market by addressing these challenges and listing the issues found to brainstorm solutions, then ordering them by its effect on the airline to tackle; which would enhance the overall travel experience and drive long-term success.\n## Dataset source\nThe source: [click here](https://www.kaggle.com/datasets/teejmahal20/airline-passenger-satisfaction/data) ",
      "metadata": {}
    },
    {
      "cell_type": "code",
      "source": "import pandas as pd",
      "metadata": {
        "trusted": true
      },
      "outputs": [],
      "execution_count": 9
    },
    {
      "cell_type": "code",
      "source": "dataset=pd.read_csv('Dataset/Airline_Passenger_Satisfaction.csv')",
      "metadata": {
        "trusted": true
      },
      "outputs": [
        {
          "ename": "<class 'FileNotFoundError'>",
          "evalue": "[Errno 44] No such file or directory: 'Airline_Passenger_Satisfaction.csv'",
          "traceback": [
            "\u001b[0;31m---------------------------------------------------------------------------\u001b[0m",
            "\u001b[0;31mFileNotFoundError\u001b[0m                         Traceback (most recent call last)",
            "Cell \u001b[0;32mIn[10], line 1\u001b[0m\n\u001b[0;32m----> 1\u001b[0m read\u001b[38;5;241m=\u001b[39m\u001b[43mpd\u001b[49m\u001b[38;5;241;43m.\u001b[39;49m\u001b[43mread_csv\u001b[49m\u001b[43m(\u001b[49m\u001b[38;5;124;43m'\u001b[39;49m\u001b[38;5;124;43mAirline_Passenger_Satisfaction.csv\u001b[39;49m\u001b[38;5;124;43m'\u001b[39;49m\u001b[43m)\u001b[49m\n",
            "File \u001b[0;32m/lib/python3.11/site-packages/pandas/util/_decorators.py:211\u001b[0m, in \u001b[0;36mdeprecate_kwarg.<locals>._deprecate_kwarg.<locals>.wrapper\u001b[0;34m(*args, **kwargs)\u001b[0m\n\u001b[1;32m    209\u001b[0m     \u001b[38;5;28;01melse\u001b[39;00m:\n\u001b[1;32m    210\u001b[0m         kwargs[new_arg_name] \u001b[38;5;241m=\u001b[39m new_arg_value\n\u001b[0;32m--> 211\u001b[0m \u001b[38;5;28;01mreturn\u001b[39;00m \u001b[43mfunc\u001b[49m\u001b[43m(\u001b[49m\u001b[38;5;241;43m*\u001b[39;49m\u001b[43margs\u001b[49m\u001b[43m,\u001b[49m\u001b[43m \u001b[49m\u001b[38;5;241;43m*\u001b[39;49m\u001b[38;5;241;43m*\u001b[39;49m\u001b[43mkwargs\u001b[49m\u001b[43m)\u001b[49m\n",
            "File \u001b[0;32m/lib/python3.11/site-packages/pandas/util/_decorators.py:331\u001b[0m, in \u001b[0;36mdeprecate_nonkeyword_arguments.<locals>.decorate.<locals>.wrapper\u001b[0;34m(*args, **kwargs)\u001b[0m\n\u001b[1;32m    325\u001b[0m \u001b[38;5;28;01mif\u001b[39;00m \u001b[38;5;28mlen\u001b[39m(args) \u001b[38;5;241m>\u001b[39m num_allow_args:\n\u001b[1;32m    326\u001b[0m     warnings\u001b[38;5;241m.\u001b[39mwarn(\n\u001b[1;32m    327\u001b[0m         msg\u001b[38;5;241m.\u001b[39mformat(arguments\u001b[38;5;241m=\u001b[39m_format_argument_list(allow_args)),\n\u001b[1;32m    328\u001b[0m         \u001b[38;5;167;01mFutureWarning\u001b[39;00m,\n\u001b[1;32m    329\u001b[0m         stacklevel\u001b[38;5;241m=\u001b[39mfind_stack_level(),\n\u001b[1;32m    330\u001b[0m     )\n\u001b[0;32m--> 331\u001b[0m \u001b[38;5;28;01mreturn\u001b[39;00m \u001b[43mfunc\u001b[49m\u001b[43m(\u001b[49m\u001b[38;5;241;43m*\u001b[39;49m\u001b[43margs\u001b[49m\u001b[43m,\u001b[49m\u001b[43m \u001b[49m\u001b[38;5;241;43m*\u001b[39;49m\u001b[38;5;241;43m*\u001b[39;49m\u001b[43mkwargs\u001b[49m\u001b[43m)\u001b[49m\n",
            "File \u001b[0;32m/lib/python3.11/site-packages/pandas/io/parsers/readers.py:950\u001b[0m, in \u001b[0;36mread_csv\u001b[0;34m(filepath_or_buffer, sep, delimiter, header, names, index_col, usecols, squeeze, prefix, mangle_dupe_cols, dtype, engine, converters, true_values, false_values, skipinitialspace, skiprows, skipfooter, nrows, na_values, keep_default_na, na_filter, verbose, skip_blank_lines, parse_dates, infer_datetime_format, keep_date_col, date_parser, dayfirst, cache_dates, iterator, chunksize, compression, thousands, decimal, lineterminator, quotechar, quoting, doublequote, escapechar, comment, encoding, encoding_errors, dialect, error_bad_lines, warn_bad_lines, on_bad_lines, delim_whitespace, low_memory, memory_map, float_precision, storage_options)\u001b[0m\n\u001b[1;32m    935\u001b[0m kwds_defaults \u001b[38;5;241m=\u001b[39m _refine_defaults_read(\n\u001b[1;32m    936\u001b[0m     dialect,\n\u001b[1;32m    937\u001b[0m     delimiter,\n\u001b[0;32m   (...)\u001b[0m\n\u001b[1;32m    946\u001b[0m     defaults\u001b[38;5;241m=\u001b[39m{\u001b[38;5;124m\"\u001b[39m\u001b[38;5;124mdelimiter\u001b[39m\u001b[38;5;124m\"\u001b[39m: \u001b[38;5;124m\"\u001b[39m\u001b[38;5;124m,\u001b[39m\u001b[38;5;124m\"\u001b[39m},\n\u001b[1;32m    947\u001b[0m )\n\u001b[1;32m    948\u001b[0m kwds\u001b[38;5;241m.\u001b[39mupdate(kwds_defaults)\n\u001b[0;32m--> 950\u001b[0m \u001b[38;5;28;01mreturn\u001b[39;00m \u001b[43m_read\u001b[49m\u001b[43m(\u001b[49m\u001b[43mfilepath_or_buffer\u001b[49m\u001b[43m,\u001b[49m\u001b[43m \u001b[49m\u001b[43mkwds\u001b[49m\u001b[43m)\u001b[49m\n",
            "File \u001b[0;32m/lib/python3.11/site-packages/pandas/io/parsers/readers.py:605\u001b[0m, in \u001b[0;36m_read\u001b[0;34m(filepath_or_buffer, kwds)\u001b[0m\n\u001b[1;32m    602\u001b[0m _validate_names(kwds\u001b[38;5;241m.\u001b[39mget(\u001b[38;5;124m\"\u001b[39m\u001b[38;5;124mnames\u001b[39m\u001b[38;5;124m\"\u001b[39m, \u001b[38;5;28;01mNone\u001b[39;00m))\n\u001b[1;32m    604\u001b[0m \u001b[38;5;66;03m# Create the parser.\u001b[39;00m\n\u001b[0;32m--> 605\u001b[0m parser \u001b[38;5;241m=\u001b[39m \u001b[43mTextFileReader\u001b[49m\u001b[43m(\u001b[49m\u001b[43mfilepath_or_buffer\u001b[49m\u001b[43m,\u001b[49m\u001b[43m \u001b[49m\u001b[38;5;241;43m*\u001b[39;49m\u001b[38;5;241;43m*\u001b[39;49m\u001b[43mkwds\u001b[49m\u001b[43m)\u001b[49m\n\u001b[1;32m    607\u001b[0m \u001b[38;5;28;01mif\u001b[39;00m chunksize \u001b[38;5;129;01mor\u001b[39;00m iterator:\n\u001b[1;32m    608\u001b[0m     \u001b[38;5;28;01mreturn\u001b[39;00m parser\n",
            "File \u001b[0;32m/lib/python3.11/site-packages/pandas/io/parsers/readers.py:1442\u001b[0m, in \u001b[0;36mTextFileReader.__init__\u001b[0;34m(self, f, engine, **kwds)\u001b[0m\n\u001b[1;32m   1439\u001b[0m     \u001b[38;5;28mself\u001b[39m\u001b[38;5;241m.\u001b[39moptions[\u001b[38;5;124m\"\u001b[39m\u001b[38;5;124mhas_index_names\u001b[39m\u001b[38;5;124m\"\u001b[39m] \u001b[38;5;241m=\u001b[39m kwds[\u001b[38;5;124m\"\u001b[39m\u001b[38;5;124mhas_index_names\u001b[39m\u001b[38;5;124m\"\u001b[39m]\n\u001b[1;32m   1441\u001b[0m \u001b[38;5;28mself\u001b[39m\u001b[38;5;241m.\u001b[39mhandles: IOHandles \u001b[38;5;241m|\u001b[39m \u001b[38;5;28;01mNone\u001b[39;00m \u001b[38;5;241m=\u001b[39m \u001b[38;5;28;01mNone\u001b[39;00m\n\u001b[0;32m-> 1442\u001b[0m \u001b[38;5;28mself\u001b[39m\u001b[38;5;241m.\u001b[39m_engine \u001b[38;5;241m=\u001b[39m \u001b[38;5;28;43mself\u001b[39;49m\u001b[38;5;241;43m.\u001b[39;49m\u001b[43m_make_engine\u001b[49m\u001b[43m(\u001b[49m\u001b[43mf\u001b[49m\u001b[43m,\u001b[49m\u001b[43m \u001b[49m\u001b[38;5;28;43mself\u001b[39;49m\u001b[38;5;241;43m.\u001b[39;49m\u001b[43mengine\u001b[49m\u001b[43m)\u001b[49m\n",
            "File \u001b[0;32m/lib/python3.11/site-packages/pandas/io/parsers/readers.py:1735\u001b[0m, in \u001b[0;36mTextFileReader._make_engine\u001b[0;34m(self, f, engine)\u001b[0m\n\u001b[1;32m   1733\u001b[0m     \u001b[38;5;28;01mif\u001b[39;00m \u001b[38;5;124m\"\u001b[39m\u001b[38;5;124mb\u001b[39m\u001b[38;5;124m\"\u001b[39m \u001b[38;5;129;01mnot\u001b[39;00m \u001b[38;5;129;01min\u001b[39;00m mode:\n\u001b[1;32m   1734\u001b[0m         mode \u001b[38;5;241m+\u001b[39m\u001b[38;5;241m=\u001b[39m \u001b[38;5;124m\"\u001b[39m\u001b[38;5;124mb\u001b[39m\u001b[38;5;124m\"\u001b[39m\n\u001b[0;32m-> 1735\u001b[0m \u001b[38;5;28mself\u001b[39m\u001b[38;5;241m.\u001b[39mhandles \u001b[38;5;241m=\u001b[39m \u001b[43mget_handle\u001b[49m\u001b[43m(\u001b[49m\n\u001b[1;32m   1736\u001b[0m \u001b[43m    \u001b[49m\u001b[43mf\u001b[49m\u001b[43m,\u001b[49m\n\u001b[1;32m   1737\u001b[0m \u001b[43m    \u001b[49m\u001b[43mmode\u001b[49m\u001b[43m,\u001b[49m\n\u001b[1;32m   1738\u001b[0m \u001b[43m    \u001b[49m\u001b[43mencoding\u001b[49m\u001b[38;5;241;43m=\u001b[39;49m\u001b[38;5;28;43mself\u001b[39;49m\u001b[38;5;241;43m.\u001b[39;49m\u001b[43moptions\u001b[49m\u001b[38;5;241;43m.\u001b[39;49m\u001b[43mget\u001b[49m\u001b[43m(\u001b[49m\u001b[38;5;124;43m\"\u001b[39;49m\u001b[38;5;124;43mencoding\u001b[39;49m\u001b[38;5;124;43m\"\u001b[39;49m\u001b[43m,\u001b[49m\u001b[43m \u001b[49m\u001b[38;5;28;43;01mNone\u001b[39;49;00m\u001b[43m)\u001b[49m\u001b[43m,\u001b[49m\n\u001b[1;32m   1739\u001b[0m \u001b[43m    \u001b[49m\u001b[43mcompression\u001b[49m\u001b[38;5;241;43m=\u001b[39;49m\u001b[38;5;28;43mself\u001b[39;49m\u001b[38;5;241;43m.\u001b[39;49m\u001b[43moptions\u001b[49m\u001b[38;5;241;43m.\u001b[39;49m\u001b[43mget\u001b[49m\u001b[43m(\u001b[49m\u001b[38;5;124;43m\"\u001b[39;49m\u001b[38;5;124;43mcompression\u001b[39;49m\u001b[38;5;124;43m\"\u001b[39;49m\u001b[43m,\u001b[49m\u001b[43m \u001b[49m\u001b[38;5;28;43;01mNone\u001b[39;49;00m\u001b[43m)\u001b[49m\u001b[43m,\u001b[49m\n\u001b[1;32m   1740\u001b[0m \u001b[43m    \u001b[49m\u001b[43mmemory_map\u001b[49m\u001b[38;5;241;43m=\u001b[39;49m\u001b[38;5;28;43mself\u001b[39;49m\u001b[38;5;241;43m.\u001b[39;49m\u001b[43moptions\u001b[49m\u001b[38;5;241;43m.\u001b[39;49m\u001b[43mget\u001b[49m\u001b[43m(\u001b[49m\u001b[38;5;124;43m\"\u001b[39;49m\u001b[38;5;124;43mmemory_map\u001b[39;49m\u001b[38;5;124;43m\"\u001b[39;49m\u001b[43m,\u001b[49m\u001b[43m \u001b[49m\u001b[38;5;28;43;01mFalse\u001b[39;49;00m\u001b[43m)\u001b[49m\u001b[43m,\u001b[49m\n\u001b[1;32m   1741\u001b[0m \u001b[43m    \u001b[49m\u001b[43mis_text\u001b[49m\u001b[38;5;241;43m=\u001b[39;49m\u001b[43mis_text\u001b[49m\u001b[43m,\u001b[49m\n\u001b[1;32m   1742\u001b[0m \u001b[43m    \u001b[49m\u001b[43merrors\u001b[49m\u001b[38;5;241;43m=\u001b[39;49m\u001b[38;5;28;43mself\u001b[39;49m\u001b[38;5;241;43m.\u001b[39;49m\u001b[43moptions\u001b[49m\u001b[38;5;241;43m.\u001b[39;49m\u001b[43mget\u001b[49m\u001b[43m(\u001b[49m\u001b[38;5;124;43m\"\u001b[39;49m\u001b[38;5;124;43mencoding_errors\u001b[39;49m\u001b[38;5;124;43m\"\u001b[39;49m\u001b[43m,\u001b[49m\u001b[43m \u001b[49m\u001b[38;5;124;43m\"\u001b[39;49m\u001b[38;5;124;43mstrict\u001b[39;49m\u001b[38;5;124;43m\"\u001b[39;49m\u001b[43m)\u001b[49m\u001b[43m,\u001b[49m\n\u001b[1;32m   1743\u001b[0m \u001b[43m    \u001b[49m\u001b[43mstorage_options\u001b[49m\u001b[38;5;241;43m=\u001b[39;49m\u001b[38;5;28;43mself\u001b[39;49m\u001b[38;5;241;43m.\u001b[39;49m\u001b[43moptions\u001b[49m\u001b[38;5;241;43m.\u001b[39;49m\u001b[43mget\u001b[49m\u001b[43m(\u001b[49m\u001b[38;5;124;43m\"\u001b[39;49m\u001b[38;5;124;43mstorage_options\u001b[39;49m\u001b[38;5;124;43m\"\u001b[39;49m\u001b[43m,\u001b[49m\u001b[43m \u001b[49m\u001b[38;5;28;43;01mNone\u001b[39;49;00m\u001b[43m)\u001b[49m\u001b[43m,\u001b[49m\n\u001b[1;32m   1744\u001b[0m \u001b[43m\u001b[49m\u001b[43m)\u001b[49m\n\u001b[1;32m   1745\u001b[0m \u001b[38;5;28;01massert\u001b[39;00m \u001b[38;5;28mself\u001b[39m\u001b[38;5;241m.\u001b[39mhandles \u001b[38;5;129;01mis\u001b[39;00m \u001b[38;5;129;01mnot\u001b[39;00m \u001b[38;5;28;01mNone\u001b[39;00m\n\u001b[1;32m   1746\u001b[0m f \u001b[38;5;241m=\u001b[39m \u001b[38;5;28mself\u001b[39m\u001b[38;5;241m.\u001b[39mhandles\u001b[38;5;241m.\u001b[39mhandle\n",
            "File \u001b[0;32m/lib/python3.11/site-packages/pandas/io/common.py:856\u001b[0m, in \u001b[0;36mget_handle\u001b[0;34m(path_or_buf, mode, encoding, compression, memory_map, is_text, errors, storage_options)\u001b[0m\n\u001b[1;32m    851\u001b[0m \u001b[38;5;28;01melif\u001b[39;00m \u001b[38;5;28misinstance\u001b[39m(handle, \u001b[38;5;28mstr\u001b[39m):\n\u001b[1;32m    852\u001b[0m     \u001b[38;5;66;03m# Check whether the filename is to be opened in binary mode.\u001b[39;00m\n\u001b[1;32m    853\u001b[0m     \u001b[38;5;66;03m# Binary mode does not support 'encoding' and 'newline'.\u001b[39;00m\n\u001b[1;32m    854\u001b[0m     \u001b[38;5;28;01mif\u001b[39;00m ioargs\u001b[38;5;241m.\u001b[39mencoding \u001b[38;5;129;01mand\u001b[39;00m \u001b[38;5;124m\"\u001b[39m\u001b[38;5;124mb\u001b[39m\u001b[38;5;124m\"\u001b[39m \u001b[38;5;129;01mnot\u001b[39;00m \u001b[38;5;129;01min\u001b[39;00m ioargs\u001b[38;5;241m.\u001b[39mmode:\n\u001b[1;32m    855\u001b[0m         \u001b[38;5;66;03m# Encoding\u001b[39;00m\n\u001b[0;32m--> 856\u001b[0m         handle \u001b[38;5;241m=\u001b[39m \u001b[38;5;28;43mopen\u001b[39;49m\u001b[43m(\u001b[49m\n\u001b[1;32m    857\u001b[0m \u001b[43m            \u001b[49m\u001b[43mhandle\u001b[49m\u001b[43m,\u001b[49m\n\u001b[1;32m    858\u001b[0m \u001b[43m            \u001b[49m\u001b[43mioargs\u001b[49m\u001b[38;5;241;43m.\u001b[39;49m\u001b[43mmode\u001b[49m\u001b[43m,\u001b[49m\n\u001b[1;32m    859\u001b[0m \u001b[43m            \u001b[49m\u001b[43mencoding\u001b[49m\u001b[38;5;241;43m=\u001b[39;49m\u001b[43mioargs\u001b[49m\u001b[38;5;241;43m.\u001b[39;49m\u001b[43mencoding\u001b[49m\u001b[43m,\u001b[49m\n\u001b[1;32m    860\u001b[0m \u001b[43m            \u001b[49m\u001b[43merrors\u001b[49m\u001b[38;5;241;43m=\u001b[39;49m\u001b[43merrors\u001b[49m\u001b[43m,\u001b[49m\n\u001b[1;32m    861\u001b[0m \u001b[43m            \u001b[49m\u001b[43mnewline\u001b[49m\u001b[38;5;241;43m=\u001b[39;49m\u001b[38;5;124;43m\"\u001b[39;49m\u001b[38;5;124;43m\"\u001b[39;49m\u001b[43m,\u001b[49m\n\u001b[1;32m    862\u001b[0m \u001b[43m        \u001b[49m\u001b[43m)\u001b[49m\n\u001b[1;32m    863\u001b[0m     \u001b[38;5;28;01melse\u001b[39;00m:\n\u001b[1;32m    864\u001b[0m         \u001b[38;5;66;03m# Binary mode\u001b[39;00m\n\u001b[1;32m    865\u001b[0m         handle \u001b[38;5;241m=\u001b[39m \u001b[38;5;28mopen\u001b[39m(handle, ioargs\u001b[38;5;241m.\u001b[39mmode)\n",
            "\u001b[0;31mFileNotFoundError\u001b[0m: [Errno 44] No such file or directory: 'Airline_Passenger_Satisfaction.csv'"
          ],
          "output_type": "error"
        }
      ],
      "execution_count": 10
    },
    {
      "cell_type": "code",
      "source": "df=pd.DataFrame(dataset) ",
      "metadata": {
        "trusted": true
      },
      "outputs": [
        {
          "ename": "<class 'NameError'>",
          "evalue": "name 'read' is not defined",
          "traceback": [
            "\u001b[0;31m---------------------------------------------------------------------------\u001b[0m",
            "\u001b[0;31mNameError\u001b[0m                                 Traceback (most recent call last)",
            "Cell \u001b[0;32mIn[5], line 1\u001b[0m\n\u001b[0;32m----> 1\u001b[0m df\u001b[38;5;241m=\u001b[39mpd\u001b[38;5;241m.\u001b[39mDataFrame(\u001b[43mread\u001b[49m) \n",
            "\u001b[0;31mNameError\u001b[0m: name 'read' is not defined"
          ],
          "output_type": "error"
        }
      ],
      "execution_count": 5
    },
    {
      "cell_type": "markdown",
      "source": "## General information of the dataset:",
      "metadata": {}
    },
    {
      "cell_type": "markdown",
      "source": "Number of Attributes: 24\n\nNumber of Object: 500\n\nClass Lable: Satisfaction\n\n\n1- ID: Unique identifier for the passenger \n\n2- Gender: Gender of the passengers (Female, Male)\n\n3- Customer Type: The customer type (Loyal customer, disloyal customer)\n\n4- Age: The actual age of the passengers\n\n5- Type of Travel: Purpose of the flight of the passengers (Personal Travel, Business Travel)\"\n\n6- Class: Travel class in the plane of the passengers (Business, Eco, Eco Plus)\n\n7- Flight distance: The flight distance of this journey\n\n8- Inflight wifi service: Satisfaction level of the inflight wifi service (0:Not Applicable;1-5)\n\n9- Departure/Arrival time convenient: Satisfaction level of Departure/Arrival time convenient\n\n10- Ease of Online booking: Satisfaction level of online booking\n\n11- Gate location: Satisfaction level of Gate location\n\n12- Food and drink: Satisfaction level of Food and drink\n\n13- Online boarding: Satisfaction level of online boarding\n\n14- Seat comfort: Satisfaction level of Seat comfort\n\n15- Inflight entertainment: Satisfaction level of inflight entertainment\n\n16- On-board service: Satisfaction level of On-board service\n\n17- Leg room service: Satisfaction level of Leg room service\n\n18- Baggage handling: Satisfaction level of baggage handling\n\n19- Check-in service: Satisfaction level of Check-in service\n\n20- Inflight service: Satisfaction level of inflight service\n\n21- Cleanliness: Satisfaction level of Cleanliness\n\n22- Departure Delay in Minutes: Minutes delayed when departure\n\n23- Arrival Delay in Minutes: Minutes delayed when Arrival\n\n24- Satisfaction: Airline satisfaction level(Satisfaction, neutral or dissatisfaction)",
      "metadata": {}
    },
    {
      "cell_type": "code",
      "source": "table = \"\"\"\n| Attribute Name                     | Data Type | Possible Values                                            |\n|------------------------------------|-----------|------------------------------------------------------------|\n| id                                 | Integer   | Numeric IDs                                                |\n| Gender                             | String    | Male, Female                                               |\n| Customer Type                      | String    | Loyal Customer, disloyal Customer                          |\n| Age                                | Integer   | Numeric ages                                               |\n| Type of Travel                     | String    | Business travel, Personal Travel                           |\n| Class                              | String    | Eco, Business, Eco Plus                                    |\n| Flight Distance                    | Integer   | Numeric distances  31 to 4983                              |\n| Inflight wifi service              | Integer   | 0 to 5                                                     |\n| Departure/Arrival time convenient  | Integer   | 0 to 5                                                     |\n| Ease of Online booking             | Integer   | 0 to 5                                                     |\n| Gate location                      | Integer   | 0 to 5                                                     |\n| Food and drink                     | Integer   | 0 to 5                                                     |\n| Online boarding                    | Integer   | 0 to 5                                                     |\n| Seat comfort                       | Integer   | 0 to 5                                                     |\n| Inflight entertainment             | Integer   | 0 to 5                                                     |\n| On-board service                   | Integer   | 0 to 5                                                     |\n| Leg room service                   | Integer   | 0 to 5                                                     |\n| Baggage handling                   | Integer   | 0 to 5                                                     |\n| Checkin service                    | Integer   | 0 to 5                                                     |\n| Inflight service                   | Integer   | 0 to 5                                                     |\n| Cleanliness                        | Integer   | 0 to 5                                                     |\n| Departure Delay in Minutes         | Integer   | Numeric minutes 0-1592                                     |\n| Arrival Delay in Minutes           | Integer   | Numeric minutes 0-158000                                   |\n| satisfaction                       | String    | satisfied, neutral or dissatisfied                         |\n\"\"\"\n\nprint(table)\n",
      "metadata": {},
      "outputs": [
        {
          "name": "stdout",
          "output_type": "stream",
          "text": [
            "\n",
            "| Attribute Name                     | Data Type | Possible Values                                            |\n",
            "|------------------------------------|-----------|------------------------------------------------------------|\n",
            "| id                                 | Integer   | Numeric IDs                                                |\n",
            "| Gender                             | String    | Male, Female                                               |\n",
            "| Customer Type                      | String    | Loyal Customer, disloyal Customer                          |\n",
            "| Age                                | Integer   | Numeric ages                                               |\n",
            "| Type of Travel                     | String    | Business travel, Personal Travel                           |\n",
            "| Class                              | String    | Eco, Business, Eco Plus                                    |\n",
            "| Flight Distance                    | Integer   | Numeric distances  31 to 4983                              |\n",
            "| Inflight wifi service              | Integer   | 0 to 5                                                     |\n",
            "| Departure/Arrival time convenient  | Integer   | 0 to 5                                                     |\n",
            "| Ease of Online booking             | Integer   | 0 to 5                                                     |\n",
            "| Gate location                      | Integer   | 0 to 5                                                     |\n",
            "| Food and drink                     | Integer   | 0 to 5                                                     |\n",
            "| Online boarding                    | Integer   | 0 to 5                                                     |\n",
            "| Seat comfort                       | Integer   | 0 to 5                                                     |\n",
            "| Inflight entertainment             | Integer   | 0 to 5                                                     |\n",
            "| On-board service                   | Integer   | 0 to 5                                                     |\n",
            "| Leg room service                   | Integer   | 0 to 5                                                     |\n",
            "| Baggage handling                   | Integer   | 0 to 5                                                     |\n",
            "| Checkin service                    | Integer   | 0 to 5                                                     |\n",
            "| Inflight service                   | Integer   | 0 to 5                                                     |\n",
            "| Cleanliness                        | Integer   | 0 to 5                                                     |\n",
            "| Departure Delay in Minutes         | Integer   | Numeric minutes 0-1592                                     |\n",
            "| Arrival Delay in Minutes           | Integer   | Numeric minutes 0-158000                                   |\n",
            "| satisfaction                       | String    | satisfied, neutral or dissatisfied                         |\n",
            "\n"
          ]
        }
      ],
      "execution_count": 3
    },
    {
      "cell_type": "markdown",
      "source": "### A glimpse of the dataset: (we should delete this!)",
      "metadata": {}
    },
    {
      "cell_type": "code",
      "source": "display(df)",
      "metadata": {},
      "outputs": [
        {
          "data": {
            "text/html": [
              "<div>\n",
              "<style scoped>\n",
              "    .dataframe tbody tr th:only-of-type {\n",
              "        vertical-align: middle;\n",
              "    }\n",
              "\n",
              "    .dataframe tbody tr th {\n",
              "        vertical-align: top;\n",
              "    }\n",
              "\n",
              "    .dataframe thead th {\n",
              "        text-align: right;\n",
              "    }\n",
              "</style>\n",
              "<table border=\"1\" class=\"dataframe\">\n",
              "  <thead>\n",
              "    <tr style=\"text-align: right;\">\n",
              "      <th></th>\n",
              "      <th>id</th>\n",
              "      <th>Gender</th>\n",
              "      <th>Customer Type</th>\n",
              "      <th>Age</th>\n",
              "      <th>Type of Travel</th>\n",
              "      <th>Class</th>\n",
              "      <th>Flight Distance</th>\n",
              "      <th>Inflight wifi service</th>\n",
              "      <th>Departure/Arrival time convenient</th>\n",
              "      <th>Ease of Online booking</th>\n",
              "      <th>...</th>\n",
              "      <th>Inflight entertainment</th>\n",
              "      <th>On-board service</th>\n",
              "      <th>Leg room service</th>\n",
              "      <th>Baggage handling</th>\n",
              "      <th>Checkin service</th>\n",
              "      <th>Inflight service</th>\n",
              "      <th>Cleanliness</th>\n",
              "      <th>Departure Delay in Minutes</th>\n",
              "      <th>Arrival Delay in Minutes</th>\n",
              "      <th>satisfaction</th>\n",
              "    </tr>\n",
              "  </thead>\n",
              "  <tbody>\n",
              "    <tr>\n",
              "      <th>0</th>\n",
              "      <td>19556</td>\n",
              "      <td>Female</td>\n",
              "      <td>Loyal Customer</td>\n",
              "      <td>52</td>\n",
              "      <td>Business travel</td>\n",
              "      <td>Eco</td>\n",
              "      <td>160</td>\n",
              "      <td>5</td>\n",
              "      <td>4</td>\n",
              "      <td>3</td>\n",
              "      <td>...</td>\n",
              "      <td>5</td>\n",
              "      <td>5</td>\n",
              "      <td>5</td>\n",
              "      <td>5</td>\n",
              "      <td>2</td>\n",
              "      <td>5</td>\n",
              "      <td>5</td>\n",
              "      <td>50</td>\n",
              "      <td>44</td>\n",
              "      <td>satisfied</td>\n",
              "    </tr>\n",
              "    <tr>\n",
              "      <th>1</th>\n",
              "      <td>90035</td>\n",
              "      <td>Female</td>\n",
              "      <td>Loyal Customer</td>\n",
              "      <td>36</td>\n",
              "      <td>Business travel</td>\n",
              "      <td>Business</td>\n",
              "      <td>2863</td>\n",
              "      <td>1</td>\n",
              "      <td>1</td>\n",
              "      <td>3</td>\n",
              "      <td>...</td>\n",
              "      <td>4</td>\n",
              "      <td>4</td>\n",
              "      <td>4</td>\n",
              "      <td>4</td>\n",
              "      <td>3</td>\n",
              "      <td>4</td>\n",
              "      <td>5</td>\n",
              "      <td>0</td>\n",
              "      <td>0</td>\n",
              "      <td>satisfied</td>\n",
              "    </tr>\n",
              "    <tr>\n",
              "      <th>2</th>\n",
              "      <td>12360</td>\n",
              "      <td>Male</td>\n",
              "      <td>disloyal Customer</td>\n",
              "      <td>20</td>\n",
              "      <td>Business travel</td>\n",
              "      <td>Eco</td>\n",
              "      <td>192</td>\n",
              "      <td>2</td>\n",
              "      <td>0</td>\n",
              "      <td>2</td>\n",
              "      <td>...</td>\n",
              "      <td>2</td>\n",
              "      <td>4</td>\n",
              "      <td>1</td>\n",
              "      <td>3</td>\n",
              "      <td>2</td>\n",
              "      <td>2</td>\n",
              "      <td>2</td>\n",
              "      <td>0</td>\n",
              "      <td>0</td>\n",
              "      <td>neutral or dissatisfied</td>\n",
              "    </tr>\n",
              "    <tr>\n",
              "      <th>3</th>\n",
              "      <td>77959</td>\n",
              "      <td>Male</td>\n",
              "      <td>Loyal Customer</td>\n",
              "      <td>44</td>\n",
              "      <td>Business travel</td>\n",
              "      <td>Business</td>\n",
              "      <td>3377</td>\n",
              "      <td>0</td>\n",
              "      <td>0</td>\n",
              "      <td>0</td>\n",
              "      <td>...</td>\n",
              "      <td>1</td>\n",
              "      <td>1</td>\n",
              "      <td>1</td>\n",
              "      <td>1</td>\n",
              "      <td>3</td>\n",
              "      <td>1</td>\n",
              "      <td>4</td>\n",
              "      <td>0</td>\n",
              "      <td>6</td>\n",
              "      <td>satisfied</td>\n",
              "    </tr>\n",
              "    <tr>\n",
              "      <th>4</th>\n",
              "      <td>36875</td>\n",
              "      <td>Female</td>\n",
              "      <td>Loyal Customer</td>\n",
              "      <td>49</td>\n",
              "      <td>Business travel</td>\n",
              "      <td>Eco</td>\n",
              "      <td>1182</td>\n",
              "      <td>2</td>\n",
              "      <td>3</td>\n",
              "      <td>4</td>\n",
              "      <td>...</td>\n",
              "      <td>2</td>\n",
              "      <td>2</td>\n",
              "      <td>2</td>\n",
              "      <td>2</td>\n",
              "      <td>4</td>\n",
              "      <td>2</td>\n",
              "      <td>4</td>\n",
              "      <td>0</td>\n",
              "      <td>20</td>\n",
              "      <td>satisfied</td>\n",
              "    </tr>\n",
              "    <tr>\n",
              "      <th>...</th>\n",
              "      <td>...</td>\n",
              "      <td>...</td>\n",
              "      <td>...</td>\n",
              "      <td>...</td>\n",
              "      <td>...</td>\n",
              "      <td>...</td>\n",
              "      <td>...</td>\n",
              "      <td>...</td>\n",
              "      <td>...</td>\n",
              "      <td>...</td>\n",
              "      <td>...</td>\n",
              "      <td>...</td>\n",
              "      <td>...</td>\n",
              "      <td>...</td>\n",
              "      <td>...</td>\n",
              "      <td>...</td>\n",
              "      <td>...</td>\n",
              "      <td>...</td>\n",
              "      <td>...</td>\n",
              "      <td>...</td>\n",
              "      <td>...</td>\n",
              "    </tr>\n",
              "    <tr>\n",
              "      <th>495</th>\n",
              "      <td>1770</td>\n",
              "      <td>Male</td>\n",
              "      <td>disloyal Customer</td>\n",
              "      <td>20</td>\n",
              "      <td>Business travel</td>\n",
              "      <td>Business</td>\n",
              "      <td>408</td>\n",
              "      <td>5</td>\n",
              "      <td>0</td>\n",
              "      <td>5</td>\n",
              "      <td>...</td>\n",
              "      <td>3</td>\n",
              "      <td>3</td>\n",
              "      <td>5</td>\n",
              "      <td>5</td>\n",
              "      <td>3</td>\n",
              "      <td>4</td>\n",
              "      <td>3</td>\n",
              "      <td>0</td>\n",
              "      <td>0</td>\n",
              "      <td>satisfied</td>\n",
              "    </tr>\n",
              "    <tr>\n",
              "      <th>496</th>\n",
              "      <td>70400</td>\n",
              "      <td>Female</td>\n",
              "      <td>Loyal Customer</td>\n",
              "      <td>44</td>\n",
              "      <td>Business travel</td>\n",
              "      <td>Business</td>\n",
              "      <td>1162</td>\n",
              "      <td>4</td>\n",
              "      <td>4</td>\n",
              "      <td>4</td>\n",
              "      <td>...</td>\n",
              "      <td>4</td>\n",
              "      <td>4</td>\n",
              "      <td>4</td>\n",
              "      <td>4</td>\n",
              "      <td>2</td>\n",
              "      <td>4</td>\n",
              "      <td>2</td>\n",
              "      <td>0</td>\n",
              "      <td>4</td>\n",
              "      <td>satisfied</td>\n",
              "    </tr>\n",
              "    <tr>\n",
              "      <th>497</th>\n",
              "      <td>15078</td>\n",
              "      <td>Female</td>\n",
              "      <td>Loyal Customer</td>\n",
              "      <td>33</td>\n",
              "      <td>Business travel</td>\n",
              "      <td>Business</td>\n",
              "      <td>239</td>\n",
              "      <td>1</td>\n",
              "      <td>1</td>\n",
              "      <td>1</td>\n",
              "      <td>...</td>\n",
              "      <td>4</td>\n",
              "      <td>4</td>\n",
              "      <td>4</td>\n",
              "      <td>4</td>\n",
              "      <td>4</td>\n",
              "      <td>4</td>\n",
              "      <td>1</td>\n",
              "      <td>0</td>\n",
              "      <td>0</td>\n",
              "      <td>satisfied</td>\n",
              "    </tr>\n",
              "    <tr>\n",
              "      <th>498</th>\n",
              "      <td>4927</td>\n",
              "      <td>Female</td>\n",
              "      <td>Loyal Customer</td>\n",
              "      <td>60</td>\n",
              "      <td>Business travel</td>\n",
              "      <td>Business</td>\n",
              "      <td>1020</td>\n",
              "      <td>4</td>\n",
              "      <td>4</td>\n",
              "      <td>4</td>\n",
              "      <td>...</td>\n",
              "      <td>5</td>\n",
              "      <td>5</td>\n",
              "      <td>5</td>\n",
              "      <td>5</td>\n",
              "      <td>4</td>\n",
              "      <td>5</td>\n",
              "      <td>5</td>\n",
              "      <td>5</td>\n",
              "      <td>0</td>\n",
              "      <td>satisfied</td>\n",
              "    </tr>\n",
              "    <tr>\n",
              "      <th>499</th>\n",
              "      <td>53073</td>\n",
              "      <td>Female</td>\n",
              "      <td>Loyal Customer</td>\n",
              "      <td>24</td>\n",
              "      <td>Business travel</td>\n",
              "      <td>Eco Plus</td>\n",
              "      <td>1208</td>\n",
              "      <td>4</td>\n",
              "      <td>5</td>\n",
              "      <td>5</td>\n",
              "      <td>...</td>\n",
              "      <td>4</td>\n",
              "      <td>2</td>\n",
              "      <td>2</td>\n",
              "      <td>4</td>\n",
              "      <td>1</td>\n",
              "      <td>4</td>\n",
              "      <td>4</td>\n",
              "      <td>1</td>\n",
              "      <td>0</td>\n",
              "      <td>satisfied</td>\n",
              "    </tr>\n",
              "  </tbody>\n",
              "</table>\n",
              "<p>500 rows × 24 columns</p>\n",
              "</div>"
            ],
            "text/plain": [
              "        id  Gender      Customer Type  Age   Type of Travel     Class  \\\n",
              "0    19556  Female     Loyal Customer   52  Business travel       Eco   \n",
              "1    90035  Female     Loyal Customer   36  Business travel  Business   \n",
              "2    12360    Male  disloyal Customer   20  Business travel       Eco   \n",
              "3    77959    Male     Loyal Customer   44  Business travel  Business   \n",
              "4    36875  Female     Loyal Customer   49  Business travel       Eco   \n",
              "..     ...     ...                ...  ...              ...       ...   \n",
              "495   1770    Male  disloyal Customer   20  Business travel  Business   \n",
              "496  70400  Female     Loyal Customer   44  Business travel  Business   \n",
              "497  15078  Female     Loyal Customer   33  Business travel  Business   \n",
              "498   4927  Female     Loyal Customer   60  Business travel  Business   \n",
              "499  53073  Female     Loyal Customer   24  Business travel  Eco Plus   \n",
              "\n",
              "     Flight Distance  Inflight wifi service  \\\n",
              "0                160                      5   \n",
              "1               2863                      1   \n",
              "2                192                      2   \n",
              "3               3377                      0   \n",
              "4               1182                      2   \n",
              "..               ...                    ...   \n",
              "495              408                      5   \n",
              "496             1162                      4   \n",
              "497              239                      1   \n",
              "498             1020                      4   \n",
              "499             1208                      4   \n",
              "\n",
              "     Departure/Arrival time convenient  Ease of Online booking  ...  \\\n",
              "0                                    4                       3  ...   \n",
              "1                                    1                       3  ...   \n",
              "2                                    0                       2  ...   \n",
              "3                                    0                       0  ...   \n",
              "4                                    3                       4  ...   \n",
              "..                                 ...                     ...  ...   \n",
              "495                                  0                       5  ...   \n",
              "496                                  4                       4  ...   \n",
              "497                                  1                       1  ...   \n",
              "498                                  4                       4  ...   \n",
              "499                                  5                       5  ...   \n",
              "\n",
              "     Inflight entertainment  On-board service  Leg room service  \\\n",
              "0                         5                 5                 5   \n",
              "1                         4                 4                 4   \n",
              "2                         2                 4                 1   \n",
              "3                         1                 1                 1   \n",
              "4                         2                 2                 2   \n",
              "..                      ...               ...               ...   \n",
              "495                       3                 3                 5   \n",
              "496                       4                 4                 4   \n",
              "497                       4                 4                 4   \n",
              "498                       5                 5                 5   \n",
              "499                       4                 2                 2   \n",
              "\n",
              "     Baggage handling  Checkin service  Inflight service  Cleanliness  \\\n",
              "0                   5                2                 5            5   \n",
              "1                   4                3                 4            5   \n",
              "2                   3                2                 2            2   \n",
              "3                   1                3                 1            4   \n",
              "4                   2                4                 2            4   \n",
              "..                ...              ...               ...          ...   \n",
              "495                 5                3                 4            3   \n",
              "496                 4                2                 4            2   \n",
              "497                 4                4                 4            1   \n",
              "498                 5                4                 5            5   \n",
              "499                 4                1                 4            4   \n",
              "\n",
              "     Departure Delay in Minutes  Arrival Delay in Minutes  \\\n",
              "0                            50                        44   \n",
              "1                             0                         0   \n",
              "2                             0                         0   \n",
              "3                             0                         6   \n",
              "4                             0                        20   \n",
              "..                          ...                       ...   \n",
              "495                           0                         0   \n",
              "496                           0                         4   \n",
              "497                           0                         0   \n",
              "498                           5                         0   \n",
              "499                           1                         0   \n",
              "\n",
              "                satisfaction  \n",
              "0                  satisfied  \n",
              "1                  satisfied  \n",
              "2    neutral or dissatisfied  \n",
              "3                  satisfied  \n",
              "4                  satisfied  \n",
              "..                       ...  \n",
              "495                satisfied  \n",
              "496                satisfied  \n",
              "497                satisfied  \n",
              "498                satisfied  \n",
              "499                satisfied  \n",
              "\n",
              "[500 rows x 24 columns]"
            ]
          },
          "metadata": {},
          "output_type": "display_data"
        }
      ],
      "execution_count": 14
    },
    {
      "cell_type": "markdown",
      "source": "### Summary of the dataset:",
      "metadata": {}
    },
    {
      "cell_type": "markdown",
      "source": "### Raw dataset:",
      "metadata": {}
    },
    {
      "cell_type": "code",
      "source": "print(df.head())\n# or use display(df)",
      "metadata": {
        "trusted": true
      },
      "outputs": [],
      "execution_count": null
    },
    {
      "cell_type": "markdown",
      "source": "Reviewing a section of our dataset, \nit's evident that there are missing values, \nsignificant ranges in certain data, \nand our dataset comprises numeric values to predict our categorical class label.",
      "metadata": {}
    },
    {
      "cell_type": "code",
      "source": "#str(dataset)",
      "metadata": {
        "trusted": true
      },
      "outputs": [],
      "execution_count": null
    },
    {
      "cell_type": "markdown",
      "source": "As we can see our dataset consists of ** integer columns primarily designed for classification purposes, aiding in the distinction of various vehicle types such as cars, vans, and buses. These 18 integer-based metrics provide a detailed perspective on diverse vehicle attributes, enabling precise and reliable classification.",
      "metadata": {}
    },
    {
      "cell_type": "code",
      "source": "summary(dataset)",
      "metadata": {
        "trusted": true
      },
      "outputs": [],
      "execution_count": null
    },
    {
      "cell_type": "markdown",
      "source": "The dataset includes 846 records and 19 attributes, aiming to classify vehicle silhouettes as 'bus', 'car', or 'van'. These attributes, numerically expressed, capture distinct silhouette features of the vehicles. An analysis of the data shows that certain attributes such as 'scaled_variance.1', 'scaled_radius_of_gyration', and 'scaled_radius_of_gyration.1' exhibit a broader range and relatively higher maximum values compared to other features. Moreover, 'pr.axis_rectangularity' and 'max.length_rectangularity' seem to have a connection with the vehicle's compactness. There are isolated outliers present in specific attributes that could potentially impact the analysis.\n\nThe categorical variable 'class' enumerates vehicle classifications, noting counts of observations for 'bus' (218), 'car' (429), and 'van' (199). The notably high count of 'car' compared to the other categories indicates a dataset imbalance. This dataset holds promise for predictive modeling to categorize vehicles based on their silhouette attributes. However, it requires cleaning and preprocessing before model development to ensure more accurate and dependable predictions.",
      "metadata": {}
    },
    {
      "cell_type": "code",
      "source": "sum(duplicated(dataset))",
      "metadata": {
        "trusted": true
      },
      "outputs": [],
      "execution_count": null
    },
    {
      "cell_type": "markdown",
      "source": "The result of '0' signifies that within the dataset, there are no rows that are exact replicas of one another. Essentially, each row in the dataset is distinct, ensuring that there are no identical rows present.",
      "metadata": {}
    },
    {
      "cell_type": "markdown",
      "source": "### Missing values:",
      "metadata": {}
    },
    {
      "cell_type": "code",
      "source": "##checking null values\nis.na(dataset)",
      "metadata": {
        "trusted": true
      },
      "outputs": [],
      "execution_count": null
    },
    {
      "cell_type": "code",
      "source": "##checking for null values\nsum(is.na(dataset))",
      "metadata": {
        "trusted": true
      },
      "outputs": [],
      "execution_count": null
    },
    {
      "cell_type": "code",
      "source": "##where class is our class label\nattributes(dataset)",
      "metadata": {
        "trusted": true
      },
      "outputs": [],
      "execution_count": null
    },
    {
      "cell_type": "markdown",
      "source": "The data contains 19 variables including 'compactness', 'circularity', 'distance_circularity', 'radius_ratio', 'pr.axis_aspect_ratio', 'max.length_aspect_ratio', 'scatter_ratio', 'elongatedness', 'pr.axis_rectangularity', 'max.length_rectangularity', 'scaled_variance', 'scaled_variance.1', 'scaled_radius_of_gyration', 'scaled_radius_of_gyration.1', 'skewness_about', 'skewness_about.1', 'skewness_about.2', 'hollows_ratio', and 'class'. The 'class' variable appears to be categorical with 846 observations, as indicated by the range of row numbers from 1 to 846. This suggests the dataset is structured and comprehensive.",
      "metadata": {}
    },
    {
      "cell_type": "markdown",
      "source": "### Graphs:",
      "metadata": {}
    },
    {
      "cell_type": "markdown",
      "source": "### Statistical summary:",
      "metadata": {}
    },
    {
      "cell_type": "code",
      "source": "# Select (Age) attribute from the dataset\nselected_df = df['Age']\n\n# Calculate mean for Age \nmean = selected_df.mean()\nprint(\"Mean:\\n\", mean)\n\n# Calculate minimum for Age \nminimum = selected_df.min()\nprint(\"\\nMinimum:\\n\", minimum)\n\n# Calculate maximum for Age \nmaximum = selected_df.max()\nprint(\"\\nMaximum:\\n\", maximum)\n\n# Calculate median for Age \nmedian = selected_df.median()\nprint(\"\\nMedian:\\n\", median)\n\n# Calculate standard deviation for Age \nstd_dev = selected_df.std()\nprint(\"\\nStandard Deviation:\\n\", std_dev)",
      "metadata": {},
      "outputs": [],
      "execution_count": null
    },
    {
      "cell_type": "code",
      "source": "# Select (Flight Distance) attribute from the dataset\nselected_df = df['Flight Distance']\n\n# Calculate mean for Flight Distance \nmean = selected_df.mean()\nprint(\"Mean:\\n\", mean)\n\n# Calculate minimum for Flight Distance \nminimum = selected_df.min()\nprint(\"\\nMinimum:\\n\", minimum)\n\n# Calculate maximum for Flight Distance \nmaximum = selected_df.max()\nprint(\"\\nMaximum:\\n\", maximum)\n\n# Calculate median for Flight Distance \nmedian = selected_df.median()\nprint(\"\\nMedian:\\n\", median)\n\n# Calculate standard deviation for Flight Distance \nstd_dev = selected_df.std()\nprint(\"\\nStandard Deviation:\\n\", std_dev)",
      "metadata": {},
      "outputs": [
        {
          "ename": "NameError",
          "evalue": "name 'df' is not defined",
          "output_type": "error",
          "traceback": [
            "\u001b[0;31m---------------------------------------------------------------------------\u001b[0m",
            "\u001b[0;31mNameError\u001b[0m                                 Traceback (most recent call last)",
            "\u001b[1;32m/Users/leensalman/Desktop/Web phase3last/Web phase3/HAura/Web2/Mining project /IT326-Airline-Passenger-Satisfaction/Airline-Data.ipynb Cell 11\u001b[0m line \u001b[0;36m1\n\u001b[0;32m----> <a href='vscode-notebook-cell:/Users/leensalman/Desktop/Web%20phase3last/Web%20phase3/HAura/Web2/Mining%20project%20/IT326-Airline-Passenger-Satisfaction/Airline-Data.ipynb#X34sZmlsZQ%3D%3D?line=0'>1</a>\u001b[0m selected_df \u001b[39m=\u001b[39m df[\u001b[39m'\u001b[39m\u001b[39mFlight Distance\u001b[39m\u001b[39m'\u001b[39m]\n\u001b[1;32m      <a href='vscode-notebook-cell:/Users/leensalman/Desktop/Web%20phase3last/Web%20phase3/HAura/Web2/Mining%20project%20/IT326-Airline-Passenger-Satisfaction/Airline-Data.ipynb#X34sZmlsZQ%3D%3D?line=3'>4</a>\u001b[0m mean \u001b[39m=\u001b[39m selected_df\u001b[39m.\u001b[39mmean()\n\u001b[1;32m      <a href='vscode-notebook-cell:/Users/leensalman/Desktop/Web%20phase3last/Web%20phase3/HAura/Web2/Mining%20project%20/IT326-Airline-Passenger-Satisfaction/Airline-Data.ipynb#X34sZmlsZQ%3D%3D?line=4'>5</a>\u001b[0m \u001b[39mprint\u001b[39m(\u001b[39m\"\u001b[39m\u001b[39mMean:\u001b[39m\u001b[39m\\n\u001b[39;00m\u001b[39m\"\u001b[39m, mean)\n",
            "\u001b[0;31mNameError\u001b[0m: name 'df' is not defined"
          ]
        }
      ],
      "execution_count": 5
    },
    {
      "cell_type": "code",
      "source": "selected_attributes = ['Age', 'Flight Distance', 'Inflight wifi service','Departure/Arrival time convenient', 'Ease of Online booking', 'Gate location',\n                       'Food and drink', 'Online boarding', 'Seat comfort','Inflight entertainment', 'On-board service','Leg room service', 'Baggage handling', 'Checkin service','Inflight service', 'Cleanliness', \n                       'Cleanliness','Departure Delay in Minutes', 'Arrival Delay in Minutes'] \n\n# Calculate descriptive statistics for selected attributes\nstatistics = df[selected_attributes].describe()\nprint(statistics)",
      "metadata": {},
      "outputs": [
        {
          "ename": "NameError",
          "evalue": "name 'df' is not defined",
          "output_type": "error",
          "traceback": [
            "\u001b[0;31m---------------------------------------------------------------------------\u001b[0m",
            "\u001b[0;31mNameError\u001b[0m                                 Traceback (most recent call last)",
            "\u001b[1;32m/Users/leensalman/Desktop/Web phase3last/Web phase3/HAura/Web2/Mining project /IT326-Airline-Passenger-Satisfaction/Airline-Data.ipynb Cell 12\u001b[0m line \u001b[0;36m6\n\u001b[1;32m      <a href='vscode-notebook-cell:/Users/leensalman/Desktop/Web%20phase3last/Web%20phase3/HAura/Web2/Mining%20project%20/IT326-Airline-Passenger-Satisfaction/Airline-Data.ipynb#X33sZmlsZQ%3D%3D?line=0'>1</a>\u001b[0m selected_attributes \u001b[39m=\u001b[39m [\u001b[39m'\u001b[39m\u001b[39mAge\u001b[39m\u001b[39m'\u001b[39m, \u001b[39m'\u001b[39m\u001b[39mFlight Distance\u001b[39m\u001b[39m'\u001b[39m, \u001b[39m'\u001b[39m\u001b[39mInflight wifi service\u001b[39m\u001b[39m'\u001b[39m,\u001b[39m'\u001b[39m\u001b[39mDeparture/Arrival time convenient\u001b[39m\u001b[39m'\u001b[39m, \u001b[39m'\u001b[39m\u001b[39mEase of Online booking\u001b[39m\u001b[39m'\u001b[39m, \u001b[39m'\u001b[39m\u001b[39mGate location\u001b[39m\u001b[39m'\u001b[39m,\n\u001b[1;32m      <a href='vscode-notebook-cell:/Users/leensalman/Desktop/Web%20phase3last/Web%20phase3/HAura/Web2/Mining%20project%20/IT326-Airline-Passenger-Satisfaction/Airline-Data.ipynb#X33sZmlsZQ%3D%3D?line=1'>2</a>\u001b[0m                        \u001b[39m'\u001b[39m\u001b[39mFood and drink\u001b[39m\u001b[39m'\u001b[39m, \u001b[39m'\u001b[39m\u001b[39mOnline boarding\u001b[39m\u001b[39m'\u001b[39m, \u001b[39m'\u001b[39m\u001b[39mSeat comfort\u001b[39m\u001b[39m'\u001b[39m,\u001b[39m'\u001b[39m\u001b[39mInflight entertainment\u001b[39m\u001b[39m'\u001b[39m, \u001b[39m'\u001b[39m\u001b[39mOn-board service\u001b[39m\u001b[39m'\u001b[39m,\u001b[39m'\u001b[39m\u001b[39mLeg room service\u001b[39m\u001b[39m'\u001b[39m, \u001b[39m'\u001b[39m\u001b[39mBaggage handling\u001b[39m\u001b[39m'\u001b[39m, \u001b[39m'\u001b[39m\u001b[39mCheckin service\u001b[39m\u001b[39m'\u001b[39m,\u001b[39m'\u001b[39m\u001b[39mInflight service\u001b[39m\u001b[39m'\u001b[39m, \u001b[39m'\u001b[39m\u001b[39mCleanliness\u001b[39m\u001b[39m'\u001b[39m, \n\u001b[1;32m      <a href='vscode-notebook-cell:/Users/leensalman/Desktop/Web%20phase3last/Web%20phase3/HAura/Web2/Mining%20project%20/IT326-Airline-Passenger-Satisfaction/Airline-Data.ipynb#X33sZmlsZQ%3D%3D?line=2'>3</a>\u001b[0m                        \u001b[39m'\u001b[39m\u001b[39mCleanliness\u001b[39m\u001b[39m'\u001b[39m,\u001b[39m'\u001b[39m\u001b[39mDeparture Delay in Minutes\u001b[39m\u001b[39m'\u001b[39m, \u001b[39m'\u001b[39m\u001b[39mArrival Delay in Minutes\u001b[39m\u001b[39m'\u001b[39m] \n\u001b[1;32m      <a href='vscode-notebook-cell:/Users/leensalman/Desktop/Web%20phase3last/Web%20phase3/HAura/Web2/Mining%20project%20/IT326-Airline-Passenger-Satisfaction/Airline-Data.ipynb#X33sZmlsZQ%3D%3D?line=4'>5</a>\u001b[0m \u001b[39m# Calculate descriptive statistics for selected attributes\u001b[39;00m\n\u001b[0;32m----> <a href='vscode-notebook-cell:/Users/leensalman/Desktop/Web%20phase3last/Web%20phase3/HAura/Web2/Mining%20project%20/IT326-Airline-Passenger-Satisfaction/Airline-Data.ipynb#X33sZmlsZQ%3D%3D?line=5'>6</a>\u001b[0m statistics \u001b[39m=\u001b[39m df[selected_attributes]\u001b[39m.\u001b[39mdescribe()\n\u001b[1;32m      <a href='vscode-notebook-cell:/Users/leensalman/Desktop/Web%20phase3last/Web%20phase3/HAura/Web2/Mining%20project%20/IT326-Airline-Passenger-Satisfaction/Airline-Data.ipynb#X33sZmlsZQ%3D%3D?line=6'>7</a>\u001b[0m \u001b[39mprint\u001b[39m(statistics)\n",
            "\u001b[0;31mNameError\u001b[0m: name 'df' is not defined"
          ]
        }
      ],
      "execution_count": 9
    },
    {
      "cell_type": "raw",
      "source": "### Preprocessing:",
      "metadata": {}
    },
    {
      "cell_type": "raw",
      "source": "### Balanacing Data:",
      "metadata": {}
    },
    {
      "cell_type": "code",
      "source": "dataset <- downSample(x = dataset[, -which(names(dataset) == \"class\")], y = dataset$class)",
      "metadata": {
        "trusted": true
      },
      "outputs": [],
      "execution_count": null
    },
    {
      "cell_type": "markdown",
      "source": "In response to the class imbalance in our Vehicle Silhouettes dataset, we initially attempted oversampling, which proved ineffective. Consequently, we implemented undersampling, successfully addressing the issue by reducing the size of the majority class. This approach enhanced model performance and became our preferred method for tackling class imbalance in our vehicle silhouette classification task.",
      "metadata": {}
    },
    {
      "cell_type": "code",
      "source": "###Encoding categorical data\ndataset$class = factor(dataset$class,levels = c(\"bus\",\"car\", \"van\"), labels = c(1, 2, 3))",
      "metadata": {
        "trusted": true
      },
      "outputs": [],
      "execution_count": null
    },
    {
      "cell_type": "code",
      "source": "##Dealing with  missing value\ndataset$compactness[is.na(dataset$compactness)]<- (median(dataset$compactness, na.rm =TRUE))\ndataset$circularity[is.na(dataset$circularity)]<- (median(dataset$circularity, na.rm =TRUE))\ndataset$distance_circularity[is.na(dataset$distance_circularity)]<- (median(dataset$distance_circularity, na.rm =TRUE))\ndataset$radius_ratio[is.na(dataset$radius_ratio)]<- (median(dataset$radius_ratio, na.rm =TRUE))\ndataset$pr.axis_aspect_ratio[is.na(dataset$pr.axis_aspect_ratio)]<- (median(dataset$pr.axis_aspect_ratio, na.rm =TRUE))\ndataset$max.length_aspect_ratio[is.na(dataset$max.length_aspect_ratio)]<- (median(dataset$max.length_aspect_ratio, na.rm =TRUE))\ndataset$scatter_ratio[is.na(dataset$scatter_ratio)]<- (median(dataset$scatter_ratio, na.rm =TRUE))\ndataset$elongatedness[is.na(dataset$elongatedness)]<- (median(dataset$elongatedness, na.rm =TRUE))\ndataset$pr.axis_rectangularity[is.na(dataset$pr.axis_rectangularity)]<- (median(dataset$pr.axis_rectangularity, na.rm =TRUE))\ndataset$max.length_rectangularity[is.na(dataset$max.length_rectangularity)]<- (median(dataset$max.length_rectangularity, na.rm =TRUE))\ndataset$scaled_variance[is.na(dataset$scaled_variance)]<- (median(dataset$scaled_variance, na.rm =TRUE))\ndataset$scaled_variance.1[is.na(dataset$scaled_variance.1)]<- (median(dataset$scaled_variance.1, na.rm =TRUE))\ndataset$scaled_radius_of_gyration[is.na(dataset$scaled_radius_of_gyration)]<- (median(dataset$scaled_radius_of_gyration, na.rm =TRUE))\ndataset$scaled_radius_of_gyration.1[is.na(dataset$scaled_radius_of_gyration.1)]<- (median(dataset$scaled_radius_of_gyration.1, na.rm =TRUE))\ndataset$skewness_about[is.na(dataset$skewness_about)]<- (median(dataset$skewness_about, na.rm =TRUE))\ndataset$skewness_about.1[is.na(dataset$skewness_about.1)]<- (median(dataset$skewness_about.1, na.rm =TRUE))\ndataset$skewness_about.2[is.na(dataset$skewness_about.2)]<- (median(dataset$skewness_about.2, na.rm =TRUE))\ndataset$hollows_ratio[is.na(dataset$hollows_ratio)]<- (median(dataset$hollows_ratio, na.rm =TRUE))",
      "metadata": {
        "trusted": true
      },
      "outputs": [],
      "execution_count": null
    },
    {
      "cell_type": "markdown",
      "source": "We have removed the missing values and set it as median to ensures that we maintain the overall central tendency of the dataset, minimizing the potential distortion of the size-related information.",
      "metadata": {}
    },
    {
      "cell_type": "code",
      "source": "## outliers analysis\n\n\n##radius_ratio founded outliers 3\n\nquartiles <- quantile(dataset$radius_ratio, probs=c(.25, .75), na.rm = FALSE)\nIQR <- IQR(dataset$radius_ratio)\n\nLower <- quartiles[1] - 1.5*IQR\nUpper <- quartiles[2] + 1.5*IQR \n\ndata_no_outlier <- subset(dataset, dataset$radius_ratio > Lower & dataset$radius_ratio < Upper)\ndim(data_no_outlier)\n\n\n##pr.axis_aspect_ratio outliers 8\n\nquartiles <- quantile(dataset$pr.axis_aspect_ratio, probs=c(.25, .75), na.rm = FALSE)\nIQR <- IQR(dataset$pr.axis_aspect_ratio)\n\nLower <- quartiles[1] - 1.5*IQR\nUpper <- quartiles[2] + 1.5*IQR \n\ndata_no_outlier <- subset(dataset, dataset$pr.axis_aspect_ratio > Lower & dataset$pr.axis_aspect_ratio < Upper)\ndim(data_no_outlier)\n\n\n##max.length_aspect_ratio outliers is 5\n\nquartiles <- quantile(dataset$max.length_aspect_ratio, probs=c(.25, .75), na.rm = FALSE)\nIQR <- IQR(dataset$max.length_aspect_ratio)\n\nLower <- quartiles[1] - 1.5*IQR\nUpper <- quartiles[2] + 1.5*IQR \n\ndata_no_outlier <- subset(dataset, dataset$max.length_aspect_ratio > Lower & dataset$max.length_aspect_ratio < Upper)\ndim(data_no_outlier)\n\n\n\n##scaled_variance outliers is 1\n\nquartiles <- quantile(dataset$scaled_variance, probs=c(.25, .75), na.rm = FALSE)\nIQR <- IQR(dataset$scaled_variance)\n\nLower <- quartiles[1] - 1.5*IQR\nUpper <- quartiles[2] + 1.5*IQR \n\ndata_no_outlier <- subset(dataset, dataset$scaled_variance > Lower & dataset$scaled_variance < Upper)\ndim(data_no_outlier)\n\n\n\n##scaled_variance.1 outliers is 2\n\nquartiles <- quantile(dataset$scaled_variance.1, probs=c(.25, .75), na.rm = FALSE)\nIQR <- IQR(dataset$scaled_variance.1)\n\nLower <- quartiles[1] - 1.5*IQR\nUpper <- quartiles[2] + 1.5*IQR \n\ndata_no_outlier <- subset(dataset, dataset$scaled_variance.1 > Lower & dataset$scaled_variance.1 < Upper)\ndim(data_no_outlier)\n\n\n\n##scaled_radius_of_gyration.1 is outliers is 10\n\nquartiles <- quantile(dataset$scaled_radius_of_gyration.1, probs=c(.25, .75), na.rm = FALSE)\nIQR <- IQR(dataset$scaled_variance.1)\n\nLower <- quartiles[1] - 1.5*IQR\nUpper <- quartiles[2] + 1.5*IQR \n\ndata_no_outlier <- subset(dataset, dataset$scaled_radius_of_gyration.1 > Lower & dataset$scaled_radius_of_gyration.1 < Upper)\ndim(data_no_outlier)\n\n\n##skewness_about is outliers is 3\n\nquartiles <- quantile(dataset$skewness_about, probs=c(.25, .75), na.rm = FALSE)\nIQR <- IQR(dataset$skewness_about)\n\nLower <- quartiles[1] - 1.5*IQR\nUpper <- quartiles[2] + 1.5*IQR \n\ndata_no_outlier <- subset(dataset, dataset$skewness_about > Lower & dataset$skewness_about < Upper)\ndim(data_no_outlier\n\n\n##skewness_about.1 is outliers is 3\n\nquartiles <- quantile(dataset$skewness_about.1, probs=c(.25, .75), na.rm = FALSE)\nIQR <- IQR(dataset$skewness_about.1)\n\nLower <- quartiles[1] - 1.5*IQR\nUpper <- quartiles[2] + 1.5*IQR \n\ndata_no_outlier <- subset(dataset, dataset$skewness_about.1 > Lower & dataset$skewness_about.1 < Upper)\ndim(data_no_outlier)",
      "metadata": {
        "trusted": true
      },
      "outputs": [],
      "execution_count": null
    },
    {
      "cell_type": "code",
      "source": "##feature selection\ncor(dataset[, unlist(lapply(dataset, is.numeric))]) \ndataset<- subset(dataset, select = -pr.axis_rectangularity)\ndataset<- subset(dataset, select = -compactness)",
      "metadata": {
        "trusted": true
      },
      "outputs": [],
      "execution_count": null
    },
    {
      "cell_type": "markdown",
      "source": "We found that pr.axis_rectangularity in our dataset that is strongly correlated with multiple other columns, it indicates multicollinearity, where features are closely related, making model building challenging. In such cases, feature selection is vital, involving the careful choice of relevant and independent features while reducing redundancy.",
      "metadata": {}
    },
    {
      "cell_type": "markdown",
      "source": "### Normalization:",
      "metadata": {}
    },
    {
      "cell_type": "markdown",
      "source": "### Data After pre-processing:",
      "metadata": {}
    },
    {
      "cell_type": "code",
      "source": "##Data before preprocessing\nhead(databeforereprossess)",
      "metadata": {
        "trusted": true
      },
      "outputs": [],
      "execution_count": null
    },
    {
      "cell_type": "code",
      "source": "##Lets take a look at our dataset after preprocessing\nhead(dataset)",
      "metadata": {
        "trusted": true
      },
      "outputs": [],
      "execution_count": null
    },
    {
      "cell_type": "markdown",
      "source": "In conclusion, our initial examination of the dataset involved several key steps. We began by identifying the attributes contained within the dataset, providing us with an understanding of the types of data we are working with. We gathered general information about the dataset and added some visualizations to provide a clearer and more intuitive understanding of the data.Then lastly we began the preprocessing stage, a critical phase , where we made only the necessary adjustments required to prepare the dataset for more advanced analyses. This ensured that our data was clean and reliable.",
      "metadata": {}
    }
  ]
}