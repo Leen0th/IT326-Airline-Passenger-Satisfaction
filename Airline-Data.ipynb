{
  "metadata": {
    "kernelspec": {
      "name": "python",
      "display_name": "Python (Pyodide)",
      "language": "python"
    },
    "language_info": {
      "codemirror_mode": {
        "name": "python",
        "version": 3
      },
      "file_extension": ".py",
      "mimetype": "text/x-python",
      "name": "python",
      "nbconvert_exporter": "python",
      "pygments_lexer": "ipython3",
      "version": "3.8"
    }
  },
  "nbformat_minor": 4,
  "nbformat": 4,
  "cells": [
    {
      "cell_type": "code",
      "source": "import pandas as pd",
      "metadata": {
        "trusted": true
      },
      "outputs": [],
      "execution_count": 2
    },
    {
      "cell_type": "code",
      "source": "read=pd.read_csv('../ProjectDM/Airline_Passenger_Satisfaction.csv')",
      "metadata": {
        "trusted": true
      },
      "outputs": [],
      "execution_count": 4
    },
    {
      "cell_type": "code",
      "source": "df=pd.DataFrame(read)",
      "metadata": {
        "trusted": true
      },
      "outputs": [],
      "execution_count": 5
    },
    {
      "cell_type": "code",
      "source": "print(df)",
      "metadata": {
        "trusted": true
      },
      "outputs": [
        {
          "name": "stdout",
          "text": "        id  Gender      Customer Type  Age   Type of Travel     Class  \\\n0    19556  Female     Loyal Customer   52  Business travel       Eco   \n1    90035  Female     Loyal Customer   36  Business travel  Business   \n2    12360    Male  disloyal Customer   20  Business travel       Eco   \n3    77959    Male     Loyal Customer   44  Business travel  Business   \n4    36875  Female     Loyal Customer   49  Business travel       Eco   \n..     ...     ...                ...  ...              ...       ...   \n495   1770    Male  disloyal Customer   20  Business travel  Business   \n496  70400  Female     Loyal Customer   44  Business travel  Business   \n497  15078  Female     Loyal Customer   33  Business travel  Business   \n498   4927  Female     Loyal Customer   60  Business travel  Business   \n499  53073  Female     Loyal Customer   24  Business travel  Eco Plus   \n\n     Flight Distance  Inflight wifi service  \\\n0                160                      5   \n1               2863                      1   \n2                192                      2   \n3               3377                      0   \n4               1182                      2   \n..               ...                    ...   \n495              408                      5   \n496             1162                      4   \n497              239                      1   \n498             1020                      4   \n499             1208                      4   \n\n     Departure/Arrival time convenient  Ease of Online booking  ...  \\\n0                                    4                       3  ...   \n1                                    1                       3  ...   \n2                                    0                       2  ...   \n3                                    0                       0  ...   \n4                                    3                       4  ...   \n..                                 ...                     ...  ...   \n495                                  0                       5  ...   \n496                                  4                       4  ...   \n497                                  1                       1  ...   \n498                                  4                       4  ...   \n499                                  5                       5  ...   \n\n     Inflight entertainment  On-board service  Leg room service  \\\n0                         5                 5                 5   \n1                         4                 4                 4   \n2                         2                 4                 1   \n3                         1                 1                 1   \n4                         2                 2                 2   \n..                      ...               ...               ...   \n495                       3                 3                 5   \n496                       4                 4                 4   \n497                       4                 4                 4   \n498                       5                 5                 5   \n499                       4                 2                 2   \n\n     Baggage handling  Checkin service  Inflight service  Cleanliness  \\\n0                   5                2                 5            5   \n1                   4                3                 4            5   \n2                   3                2                 2            2   \n3                   1                3                 1            4   \n4                   2                4                 2            4   \n..                ...              ...               ...          ...   \n495                 5                3                 4            3   \n496                 4                2                 4            2   \n497                 4                4                 4            1   \n498                 5                4                 5            5   \n499                 4                1                 4            4   \n\n     Departure Delay in Minutes  Arrival Delay in Minutes  \\\n0                            50                        44   \n1                             0                         0   \n2                             0                         0   \n3                             0                         6   \n4                             0                        20   \n..                          ...                       ...   \n495                           0                         0   \n496                           0                         4   \n497                           0                         0   \n498                           5                         0   \n499                           1                         0   \n\n                satisfaction  \n0                  satisfied  \n1                  satisfied  \n2    neutral or dissatisfied  \n3                  satisfied  \n4                  satisfied  \n..                       ...  \n495                satisfied  \n496                satisfied  \n497                satisfied  \n498                satisfied  \n499                satisfied  \n\n[500 rows x 24 columns]\n",
          "output_type": "stream"
        }
      ],
      "execution_count": 6
    },
    {
      "cell_type": "code",
      "source": "",
      "metadata": {
        "trusted": true
      },
      "outputs": [],
      "execution_count": null
    }
  ]
}