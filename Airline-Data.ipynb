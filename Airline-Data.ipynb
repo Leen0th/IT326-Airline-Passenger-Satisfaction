{
  "cells": [
    {
      "cell_type": "code",
      "execution_count": null,
      "metadata": {},
      "outputs": [],
      "source": [
        "# Airline Passenger Satisfaction dataset description\n",
        "## The goal of collecting this dataset\n",
        "Understanding and improving airline passenger satisfaction by analyzing the data is crucial for an airline to attract and retain customers, build brand loyalty, and differentiate itself in a competitive market by addressing these challenges and listing the issues found to brainstorm solutions, then ordering them by its effect on the airline to tackle; which would enhance the overall travel experience and drive long-term success.\n",
        "## Dataset source\n",
        "The source: [click here](https://www.kaggle.com/datasets/teejmahal20/airline-passenger-satisfaction/data) "
      ]
    },
    {
      "cell_type": "code",
      "execution_count": 2,
      "metadata": {
        "trusted": true
      },
      "outputs": [],
      "source": [
        "import pandas as pd"
      ]
    },
    {
      "cell_type": "code",
      "execution_count": null,
      "metadata": {
        "trusted": true
      },
      "outputs": [],
      "source": [
        "read=pd.read_csv('../ProjectDM/Airline_Passenger_Satisfaction.csv')"
      ]
    },
    {
      "cell_type": "code",
      "execution_count": 5,
      "metadata": {
        "trusted": true
      },
      "outputs": [],
      "source": [
        "df=pd.DataFrame(read)"
      ]
    },
    {
      "cell_type": "code",
      "execution_count": 6,
      "metadata": {
        "trusted": true
      },
      "outputs": [
        {
          "name": "stdout",
          "output_type": "stream",
          "text": [
            "        id  Gender      Customer Type  Age   Type of Travel     Class  \\\n",
            "0    19556  Female     Loyal Customer   52  Business travel       Eco   \n",
            "1    90035  Female     Loyal Customer   36  Business travel  Business   \n",
            "2    12360    Male  disloyal Customer   20  Business travel       Eco   \n",
            "3    77959    Male     Loyal Customer   44  Business travel  Business   \n",
            "4    36875  Female     Loyal Customer   49  Business travel       Eco   \n",
            "..     ...     ...                ...  ...              ...       ...   \n",
            "495   1770    Male  disloyal Customer   20  Business travel  Business   \n",
            "496  70400  Female     Loyal Customer   44  Business travel  Business   \n",
            "497  15078  Female     Loyal Customer   33  Business travel  Business   \n",
            "498   4927  Female     Loyal Customer   60  Business travel  Business   \n",
            "499  53073  Female     Loyal Customer   24  Business travel  Eco Plus   \n",
            "\n",
            "     Flight Distance  Inflight wifi service  \\\n",
            "0                160                      5   \n",
            "1               2863                      1   \n",
            "2                192                      2   \n",
            "3               3377                      0   \n",
            "4               1182                      2   \n",
            "..               ...                    ...   \n",
            "495              408                      5   \n",
            "496             1162                      4   \n",
            "497              239                      1   \n",
            "498             1020                      4   \n",
            "499             1208                      4   \n",
            "\n",
            "     Departure/Arrival time convenient  Ease of Online booking  ...  \\\n",
            "0                                    4                       3  ...   \n",
            "1                                    1                       3  ...   \n",
            "2                                    0                       2  ...   \n",
            "3                                    0                       0  ...   \n",
            "4                                    3                       4  ...   \n",
            "..                                 ...                     ...  ...   \n",
            "495                                  0                       5  ...   \n",
            "496                                  4                       4  ...   \n",
            "497                                  1                       1  ...   \n",
            "498                                  4                       4  ...   \n",
            "499                                  5                       5  ...   \n",
            "\n",
            "     Inflight entertainment  On-board service  Leg room service  \\\n",
            "0                         5                 5                 5   \n",
            "1                         4                 4                 4   \n",
            "2                         2                 4                 1   \n",
            "3                         1                 1                 1   \n",
            "4                         2                 2                 2   \n",
            "..                      ...               ...               ...   \n",
            "495                       3                 3                 5   \n",
            "496                       4                 4                 4   \n",
            "497                       4                 4                 4   \n",
            "498                       5                 5                 5   \n",
            "499                       4                 2                 2   \n",
            "\n",
            "     Baggage handling  Checkin service  Inflight service  Cleanliness  \\\n",
            "0                   5                2                 5            5   \n",
            "1                   4                3                 4            5   \n",
            "2                   3                2                 2            2   \n",
            "3                   1                3                 1            4   \n",
            "4                   2                4                 2            4   \n",
            "..                ...              ...               ...          ...   \n",
            "495                 5                3                 4            3   \n",
            "496                 4                2                 4            2   \n",
            "497                 4                4                 4            1   \n",
            "498                 5                4                 5            5   \n",
            "499                 4                1                 4            4   \n",
            "\n",
            "     Departure Delay in Minutes  Arrival Delay in Minutes  \\\n",
            "0                            50                        44   \n",
            "1                             0                         0   \n",
            "2                             0                         0   \n",
            "3                             0                         6   \n",
            "4                             0                        20   \n",
            "..                          ...                       ...   \n",
            "495                           0                         0   \n",
            "496                           0                         4   \n",
            "497                           0                         0   \n",
            "498                           5                         0   \n",
            "499                           1                         0   \n",
            "\n",
            "                satisfaction  \n",
            "0                  satisfied  \n",
            "1                  satisfied  \n",
            "2    neutral or dissatisfied  \n",
            "3                  satisfied  \n",
            "4                  satisfied  \n",
            "..                       ...  \n",
            "495                satisfied  \n",
            "496                satisfied  \n",
            "497                satisfied  \n",
            "498                satisfied  \n",
            "499                satisfied  \n",
            "\n",
            "[500 rows x 24 columns]\n"
          ]
        }
      ],
      "source": [
        "print(df)"
      ]
    },
    {
      "cell_type": "code",
      "execution_count": null,
      "metadata": {
        "trusted": true
      },
      "outputs": [],
      "source": []
    }
  ],
  "metadata": {
    "kernelspec": {
      "display_name": "Python (Pyodide)",
      "language": "python",
      "name": "python"
    },
    "language_info": {
      "codemirror_mode": {
        "name": "python",
        "version": 3
      },
      "file_extension": ".py",
      "mimetype": "text/x-python",
      "name": "python",
      "nbconvert_exporter": "python",
      "pygments_lexer": "ipython3",
      "version": "3.8"
    }
  },
  "nbformat": 4,
  "nbformat_minor": 4
}
