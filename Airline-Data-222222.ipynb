{
  "metadata": {
    "kernelspec": {
      "name": "python",
      "display_name": "Python (Pyodide)",
      "language": "python"
    },
    "language_info": {
      "codemirror_mode": {
        "name": "python",
        "version": 3
      },
      "file_extension": ".py",
      "mimetype": "text/x-python",
      "name": "python",
      "nbconvert_exporter": "python",
      "pygments_lexer": "ipython3",
      "version": "3.8"
    }
  },
  "nbformat_minor": 4,
  "nbformat": 4,
  "cells": [
    {
      "cell_type": "markdown",
      "source": "# Airline Passenger Satisfaction dataset description\n## The goal of collecting this dataset\nUnderstanding and improving airline passenger satisfaction by analyzing the data is crucial for an airline to attract and retain customers, build brand loyalty, and differentiate itself in a competitive market by addressing these challenges and listing the issues found to brainstorm solutions, then ordering them by its effect on the airline to tackle; which would enhance the overall travel experience and drive long-term success.\n## Dataset source\nThe source: [click here](https://www.kaggle.com/datasets/teejmahal20/airline-passenger-satisfaction/data) ",
      "metadata": {}
    },
    {
      "cell_type": "code",
      "source": "import pandas as pd\nimport matplotlib.pyplot as plt\ndataset=pd.read_csv('../ProjectDM/Airline_Passenger_Satisfaction.csv')",
      "metadata": {
        "trusted": true
      },
      "outputs": [],
      "execution_count": 1
    },
    {
      "cell_type": "code",
      "source": "df=pd.DataFrame(dataset) ",
      "metadata": {
        "trusted": true
      },
      "outputs": [],
      "execution_count": 2
    },
    {
      "cell_type": "markdown",
      "source": "## General information of the dataset:",
      "metadata": {}
    },
    {
      "cell_type": "markdown",
      "source": "Number of Attributes: 24\n\nNumber of Object: 500\n\nClass Lable: Satisfaction\n\n\n1- ID: Unique identifier for the passenger \n\n2- Gender: Gender of the passengers (Female, Male)\n\n3- Customer Type: The customer type (Loyal customer, disloyal customer)\n\n4- Age: The actual age of the passengers\n\n5- Type of Travel: Purpose of the flight of the passengers (Personal Travel, Business Travel)\"\n\n6- Class: Travel class in the plane of the passengers (Business, Eco, Eco Plus)\n\n7- Flight distance: The flight distance of this journey\n\n8- Inflight wifi service: Satisfaction level of the inflight wifi service (0:Not Applicable;1-5)\n\n9- Departure/Arrival time convenient: Satisfaction level of Departure/Arrival time convenient\n\n10- Ease of Online booking: Satisfaction level of online booking\n\n11- Gate location: Satisfaction level of Gate location\n\n12- Food and drink: Satisfaction level of Food and drink\n\n13- Online boarding: Satisfaction level of online boarding\n\n14- Seat comfort: Satisfaction level of Seat comfort\n\n15- Inflight entertainment: Satisfaction level of inflight entertainment\n\n16- On-board service: Satisfaction level of On-board service\n\n17- Leg room service: Satisfaction level of Leg room service\n\n18- Baggage handling: Satisfaction level of baggage handling\n\n19- Check-in service: Satisfaction level of Check-in service\n\n20- Inflight service: Satisfaction level of inflight service\n\n21- Cleanliness: Satisfaction level of Cleanliness\n\n22- Departure Delay in Minutes: Minutes delayed when departure\n\n23- Arrival Delay in Minutes: Minutes delayed when Arrival\n\n24- Satisfaction: Airline satisfaction level(Satisfaction, neutral or dissatisfaction)",
      "metadata": {}
    },
    {
      "cell_type": "code",
      "source": "table = \"\"\"\n| Attribute Name                     | Data Type | Possible Values                                            |\n|------------------------------------|-----------|------------------------------------------------------------|\n| id                                 | Integer   | Numeric IDs                                                |\n| Gender                             | String    | Male, Female                                               |\n| Customer Type                      | String    | Loyal Customer, disloyal Customer                          |\n| Age                                | Integer   | Numeric ages                                               |\n| Type of Travel                     | String    | Business travel, Personal Travel                           |\n| Class                              | String    | Eco, Business, Eco Plus                                    |\n| Flight Distance                    | Integer   | Numeric distances  31 to 4983                              |\n| Inflight wifi service              | Integer   | 0 to 5                                                     |\n| Departure/Arrival time convenient  | Integer   | 0 to 5                                                     |\n| Ease of Online booking             | Integer   | 0 to 5                                                     |\n| Gate location                      | Integer   | 0 to 5                                                     |\n| Food and drink                     | Integer   | 0 to 5                                                     |\n| Online boarding                    | Integer   | 0 to 5                                                     |\n| Seat comfort                       | Integer   | 0 to 5                                                     |\n| Inflight entertainment             | Integer   | 0 to 5                                                     |\n| On-board service                   | Integer   | 0 to 5                                                     |\n| Leg room service                   | Integer   | 0 to 5                                                     |\n| Baggage handling                   | Integer   | 0 to 5                                                     |\n| Checkin service                    | Integer   | 0 to 5                                                     |\n| Inflight service                   | Integer   | 0 to 5                                                     |\n| Cleanliness                        | Integer   | 0 to 5                                                     |\n| Departure Delay in Minutes         | Integer   | Numeric minutes 0-1592                                     |\n| Arrival Delay in Minutes           | Integer   | Numeric minutes 0-158000                                   |\n| satisfaction                       | String    | satisfied, neutral or dissatisfied                         |\n\"\"\"\n\nprint(table)\n",
      "metadata": {},
      "outputs": [
        {
          "name": "stdout",
          "output_type": "stream",
          "text": [
            "\n",
            "| Attribute Name                     | Data Type | Possible Values                                            |\n",
            "|------------------------------------|-----------|------------------------------------------------------------|\n",
            "| id                                 | Integer   | Numeric IDs                                                |\n",
            "| Gender                             | String    | Male, Female                                               |\n",
            "| Customer Type                      | String    | Loyal Customer, disloyal Customer                          |\n",
            "| Age                                | Integer   | Numeric ages                                               |\n",
            "| Type of Travel                     | String    | Business travel, Personal Travel                           |\n",
            "| Class                              | String    | Eco, Business, Eco Plus                                    |\n",
            "| Flight Distance                    | Integer   | Numeric distances  31 to 4983                              |\n",
            "| Inflight wifi service              | Integer   | 0 to 5                                                     |\n",
            "| Departure/Arrival time convenient  | Integer   | 0 to 5                                                     |\n",
            "| Ease of Online booking             | Integer   | 0 to 5                                                     |\n",
            "| Gate location                      | Integer   | 0 to 5                                                     |\n",
            "| Food and drink                     | Integer   | 0 to 5                                                     |\n",
            "| Online boarding                    | Integer   | 0 to 5                                                     |\n",
            "| Seat comfort                       | Integer   | 0 to 5                                                     |\n",
            "| Inflight entertainment             | Integer   | 0 to 5                                                     |\n",
            "| On-board service                   | Integer   | 0 to 5                                                     |\n",
            "| Leg room service                   | Integer   | 0 to 5                                                     |\n",
            "| Baggage handling                   | Integer   | 0 to 5                                                     |\n",
            "| Checkin service                    | Integer   | 0 to 5                                                     |\n",
            "| Inflight service                   | Integer   | 0 to 5                                                     |\n",
            "| Cleanliness                        | Integer   | 0 to 5                                                     |\n",
            "| Departure Delay in Minutes         | Integer   | Numeric minutes 0-1592                                     |\n",
            "| Arrival Delay in Minutes           | Integer   | Numeric minutes 0-158000                                   |\n",
            "| satisfaction                       | String    | satisfied, neutral or dissatisfied                         |\n",
            "\n"
          ]
        }
      ],
      "execution_count": 3
    },
    {
      "cell_type": "markdown",
      "source": "### Summary of the dataset:",
      "metadata": {}
    },
    {
      "cell_type": "markdown",
      "source": "### Raw dataset:",
      "metadata": {}
    },
    {
      "cell_type": "code",
      "source": "# or use display(df)\nprint(df.head())",
      "metadata": {
        "trusted": true
      },
      "outputs": [
        {
          "name": "stdout",
          "text": "      id  Gender      Customer Type  Age   Type of Travel     Class  \\\n0  19556  Female     Loyal Customer   52  Business travel       Eco   \n1  90035  Female     Loyal Customer   36  Business travel  Business   \n2  12360    Male  disloyal Customer   20  Business travel       Eco   \n3  77959    Male     Loyal Customer   44  Business travel  Business   \n4  36875  Female     Loyal Customer   49  Business travel       Eco   \n\n   Flight Distance  Inflight wifi service  Departure/Arrival time convenient  \\\n0              160                      5                                  4   \n1             2863                      1                                  1   \n2              192                      2                                  0   \n3             3377                      0                                  0   \n4             1182                      2                                  3   \n\n   Ease of Online booking  ...  Inflight entertainment  On-board service  \\\n0                       3  ...                       5                 5   \n1                       3  ...                       4                 4   \n2                       2  ...                       2                 4   \n3                       0  ...                       1                 1   \n4                       4  ...                       2                 2   \n\n   Leg room service  Baggage handling  Checkin service  Inflight service  \\\n0                 5                 5                2                 5   \n1                 4                 4                3                 4   \n2                 1                 3                2                 2   \n3                 1                 1                3                 1   \n4                 2                 2                4                 2   \n\n   Cleanliness  Departure Delay in Minutes  Arrival Delay in Minutes  \\\n0            5                          50                        44   \n1            5                           0                         0   \n2            2                           0                         0   \n3            4                           0                         6   \n4            4                           0                        20   \n\n              satisfaction  \n0                satisfied  \n1                satisfied  \n2  neutral or dissatisfied  \n3                satisfied  \n4                satisfied  \n\n[5 rows x 24 columns]\n",
          "output_type": "stream"
        }
      ],
      "execution_count": 4
    },
    {
      "cell_type": "markdown",
      "source": "Reviewing a section of our dataset, \nit's evident that there are \nsignificant ranges in certain data, \nand our dataset comprises numeric values to predict our categorical class label.",
      "metadata": {}
    },
    {
      "cell_type": "code",
      "source": "sum(duplicated(dataset))",
      "metadata": {
        "trusted": true
      },
      "outputs": [
        {
          "ename": "<class 'NameError'>",
          "evalue": "name 'duplicated' is not defined",
          "traceback": [
            "\u001b[0;31m---------------------------------------------------------------------------\u001b[0m",
            "\u001b[0;31mNameError\u001b[0m                                 Traceback (most recent call last)",
            "Cell \u001b[0;32mIn[11], line 1\u001b[0m\n\u001b[0;32m----> 1\u001b[0m \u001b[38;5;28msum\u001b[39m(\u001b[43mduplicated\u001b[49m(dataset))\n",
            "\u001b[0;31mNameError\u001b[0m: name 'duplicated' is not defined"
          ],
          "output_type": "error"
        }
      ],
      "execution_count": 11
    },
    {
      "cell_type": "markdown",
      "source": "The result of '0' signifies that within the dataset, there are no rows that are exact replicas of one another. Essentially, each row in the dataset is distinct, ensuring that there are no identical rows present.",
      "metadata": {}
    },
    {
      "cell_type": "markdown",
      "source": "### Missing values:",
      "metadata": {}
    },
    {
      "cell_type": "code",
      "source": "##checking null values\nis.na(dataset)",
      "metadata": {
        "trusted": true
      },
      "outputs": [
        {
          "ename": "<class 'SyntaxError'>",
          "evalue": "invalid syntax (<ipython-input-12-6f7b51b098e8>, line 2)",
          "traceback": [
            "\u001b[0;36m  Cell \u001b[0;32mIn[12], line 2\u001b[0;36m\u001b[0m\n\u001b[0;31m    is.na(dataset)\u001b[0m\n\u001b[0m    ^\u001b[0m\n\u001b[0;31mSyntaxError\u001b[0m\u001b[0;31m:\u001b[0m invalid syntax\n"
          ],
          "output_type": "error"
        }
      ],
      "execution_count": 12
    },
    {
      "cell_type": "code",
      "source": "##checking for null values\nsum(is.na(dataset))",
      "metadata": {
        "trusted": true
      },
      "outputs": [
        {
          "ename": "<class 'SyntaxError'>",
          "evalue": "invalid syntax (<ipython-input-13-ed94cde6c2c5>, line 2)",
          "traceback": [
            "\u001b[0;36m  Cell \u001b[0;32mIn[13], line 2\u001b[0;36m\u001b[0m\n\u001b[0;31m    sum(is.na(dataset))\u001b[0m\n\u001b[0m        ^\u001b[0m\n\u001b[0;31mSyntaxError\u001b[0m\u001b[0;31m:\u001b[0m invalid syntax\n"
          ],
          "output_type": "error"
        }
      ],
      "execution_count": 13
    },
    {
      "cell_type": "code",
      "source": "##where class is our class label\nattributes(dataset)",
      "metadata": {
        "trusted": true
      },
      "outputs": [
        {
          "ename": "<class 'NameError'>",
          "evalue": "name 'attributes' is not defined",
          "traceback": [
            "\u001b[0;31m---------------------------------------------------------------------------\u001b[0m",
            "\u001b[0;31mNameError\u001b[0m                                 Traceback (most recent call last)",
            "Cell \u001b[0;32mIn[14], line 2\u001b[0m\n\u001b[1;32m      1\u001b[0m \u001b[38;5;66;03m##where class is our class label\u001b[39;00m\n\u001b[0;32m----> 2\u001b[0m \u001b[43mattributes\u001b[49m(dataset)\n",
            "\u001b[0;31mNameError\u001b[0m: name 'attributes' is not defined"
          ],
          "output_type": "error"
        }
      ],
      "execution_count": 14
    },
    {
      "cell_type": "markdown",
      "source": "The data contains 19 variables including 'compactness', 'circularity', 'distance_circularity', 'radius_ratio', 'pr.axis_aspect_ratio', 'max.length_aspect_ratio', 'scatter_ratio', 'elongatedness', 'pr.axis_rectangularity', 'max.length_rectangularity', 'scaled_variance', 'scaled_variance.1', 'scaled_radius_of_gyration', 'scaled_radius_of_gyration.1', 'skewness_about', 'skewness_about.1', 'skewness_about.2', 'hollows_ratio', and 'class'. The 'class' variable appears to be categorical with 846 observations, as indicated by the range of row numbers from 1 to 846. This suggests the dataset is structured and comprehensive.",
      "metadata": {}
    },
    {
      "cell_type": "markdown",
      "source": "### Graphs:",
      "metadata": {}
    },
    {
      "cell_type": "markdown",
      "source": "### Statistical summary:",
      "metadata": {}
    },
    {
      "cell_type": "code",
      "source": "##decoding",
      "metadata": {
        "trusted": true
      },
      "outputs": [],
      "execution_count": null
    },
    {
      "cell_type": "code",
      "source": "selected_attributes = ['Class','Flight Distance','Departure/Arrival time convenient', 'Ease of Online booking',\n                       'Food and drink', 'Seat comfort','Inflight entertainment', 'On-board service', 'Baggage handling', 'Checkin service',  \n                       'Cleanliness','Departure Delay in Minutes', 'Arrival Delay in Minutes'] \n\n# Calculate descriptive statistics for selected attributes\nstatistics = df[selected_attributes].describe()\nprint(statistics)",
      "metadata": {
        "trusted": true
      },
      "outputs": [
        {
          "name": "stdout",
          "text": "       Flight Distance  Departure/Arrival time convenient  \\\ncount       500.000000                         500.000000   \nmean       1243.404000                           3.020000   \nstd        1032.374319                           1.511347   \nmin          77.000000                           0.000000   \n25%         414.000000                           2.000000   \n50%         912.500000                           3.000000   \n75%        1849.250000                           4.000000   \nmax        4817.000000                           5.000000   \n\n       Ease of Online booking  Food and drink  Seat comfort  \\\ncount               500.00000      500.000000     500.00000   \nmean                  2.69200        3.268000       3.48200   \nstd                   1.35381        1.295969       1.33463   \nmin                   0.00000        1.000000       1.00000   \n25%                   2.00000        2.000000       2.00000   \n50%                   3.00000        3.000000       4.00000   \n75%                   4.00000        4.000000       5.00000   \nmax                   5.00000        5.000000       5.00000   \n\n       Inflight entertainment  On-board service  Baggage handling  \\\ncount              500.000000        500.000000        500.000000   \nmean                 3.422000          3.404000          3.696000   \nstd                  1.321897          1.308514          1.156832   \nmin                  1.000000          1.000000          1.000000   \n25%                  2.000000          2.750000          3.000000   \n50%                  4.000000          4.000000          4.000000   \n75%                  5.000000          4.000000          5.000000   \nmax                  5.000000          5.000000          5.000000   \n\n       Checkin service  Cleanliness  Departure Delay in Minutes  \\\ncount       500.000000   500.000000                  500.000000   \nmean          3.382000     3.342000                   15.372000   \nstd           1.251883     1.329877                   33.824041   \nmin           1.000000     1.000000                    0.000000   \n25%           3.000000     2.000000                    0.000000   \n50%           4.000000     3.000000                    0.000000   \n75%           4.000000     5.000000                   13.000000   \nmax           5.000000     5.000000                  243.000000   \n\n       Arrival Delay in Minutes  \ncount                500.000000  \nmean                  15.900000  \nstd                   34.158331  \nmin                    0.000000  \n25%                    0.000000  \n50%                    0.000000  \n75%                   14.000000  \nmax                  251.000000  \n",
          "output_type": "stream"
        }
      ],
      "execution_count": 10
    },
    {
      "cell_type": "markdown",
      "source": "The dataset includes 500 records and 25 attributes, aiming to classify vehicle silhouettes as 'bus', 'car', or 'van'. These attributes, numerically expressed, capture distinct silhouette features of the vehicles. An analysis of the data shows that certain attributes such as 'scaled_variance.1', 'scaled_radius_of_gyration', and 'scaled_radius_of_gyration.1' exhibit a broader range and relatively higher maximum values compared to other features. Moreover, 'pr.axis_rectangularity' and 'max.length_rectangularity' seem to have a connection with the vehicle's compactness. There are isolated outliers present in specific attributes that could potentially impact the analysis.\n\nThe categorical variable 'class' enumerates vehicle classifications, noting counts of observations for 'bus' (218), 'car' (429), and 'van' (199). The notably high count of 'car' compared to the other categories indicates a dataset imbalance. This dataset holds promise for predictive modeling to categorize vehicles based on their silhouette attributes. However, it requires cleaning and preprocessing before model development to ensure more accurate and dependable predictions.",
      "metadata": {}
    },
    {
      "cell_type": "markdown",
      "source": "### Preprocessing:",
      "metadata": {}
    },
    {
      "cell_type": "markdown",
      "source": "### Balanacing Data:",
      "metadata": {}
    },
    {
      "cell_type": "code",
      "source": "dataset = downSample(x = dataset[, -which(names(dataset) == \"class\")], y = dataset$class)",
      "metadata": {
        "trusted": true
      },
      "outputs": [],
      "execution_count": null
    },
    {
      "cell_type": "markdown",
      "source": "In response to the class imbalance in our Vehicle Silhouettes dataset, we initially attempted oversampling, which proved ineffective. Consequently, we implemented undersampling, successfully addressing the issue by reducing the size of the majority class. This approach enhanced model performance and became our preferred method for tackling class imbalance in our vehicle silhouette classification task.",
      "metadata": {}
    },
    {
      "cell_type": "code",
      "source": "##Dealing with  missing value\ndataset$compactness[is.na(dataset$compactness)]<- (median(dataset$compactness, na.rm =TRUE))\ndataset$circularity[is.na(dataset$circularity)]<- (median(dataset$circularity, na.rm =TRUE))\ndataset$distance_circularity[is.na(dataset$distance_circularity)]<- (median(dataset$distance_circularity, na.rm =TRUE))\ndataset$radius_ratio[is.na(dataset$radius_ratio)]<- (median(dataset$radius_ratio, na.rm =TRUE))\ndataset$pr.axis_aspect_ratio[is.na(dataset$pr.axis_aspect_ratio)]<- (median(dataset$pr.axis_aspect_ratio, na.rm =TRUE))\ndataset$max.length_aspect_ratio[is.na(dataset$max.length_aspect_ratio)]<- (median(dataset$max.length_aspect_ratio, na.rm =TRUE))\ndataset$scatter_ratio[is.na(dataset$scatter_ratio)]<- (median(dataset$scatter_ratio, na.rm =TRUE))\ndataset$elongatedness[is.na(dataset$elongatedness)]<- (median(dataset$elongatedness, na.rm =TRUE))\ndataset$pr.axis_rectangularity[is.na(dataset$pr.axis_rectangularity)]<- (median(dataset$pr.axis_rectangularity, na.rm =TRUE))\ndataset$max.length_rectangularity[is.na(dataset$max.length_rectangularity)]<- (median(dataset$max.length_rectangularity, na.rm =TRUE))\ndataset$scaled_variance[is.na(dataset$scaled_variance)]<- (median(dataset$scaled_variance, na.rm =TRUE))\ndataset$scaled_variance.1[is.na(dataset$scaled_variance.1)]<- (median(dataset$scaled_variance.1, na.rm =TRUE))\ndataset$scaled_radius_of_gyration[is.na(dataset$scaled_radius_of_gyration)]<- (median(dataset$scaled_radius_of_gyration, na.rm =TRUE))\ndataset$scaled_radius_of_gyration.1[is.na(dataset$scaled_radius_of_gyration.1)]<- (median(dataset$scaled_radius_of_gyration.1, na.rm =TRUE))\ndataset$skewness_about[is.na(dataset$skewness_about)]<- (median(dataset$skewness_about, na.rm =TRUE))\ndataset$skewness_about.1[is.na(dataset$skewness_about.1)]<- (median(dataset$skewness_about.1, na.rm =TRUE))\ndataset$skewness_about.2[is.na(dataset$skewness_about.2)]<- (median(dataset$skewness_about.2, na.rm =TRUE))\ndataset$hollows_ratio[is.na(dataset$hollows_ratio)]<- (median(dataset$hollows_ratio, na.rm =TRUE))",
      "metadata": {
        "trusted": true
      },
      "outputs": [],
      "execution_count": null
    },
    {
      "cell_type": "markdown",
      "source": "We have removed the missing values and set it as median to ensures that we maintain the overall central tendency of the dataset, minimizing the potential distortion of the size-related information.",
      "metadata": {}
    },
    {
      "cell_type": "code",
      "source": "## outliers analysis\n\n\n##radius_ratio founded outliers 3\n\nquartiles <- quantile(dataset$radius_ratio, probs=c(.25, .75), na.rm = FALSE)\nIQR <- IQR(dataset$radius_ratio)\n\nLower <- quartiles[1] - 1.5*IQR\nUpper <- quartiles[2] + 1.5*IQR \n\ndata_no_outlier <- subset(dataset, dataset$radius_ratio > Lower & dataset$radius_ratio < Upper)\ndim(data_no_outlier)\n\n\n##pr.axis_aspect_ratio outliers 8\n\nquartiles <- quantile(dataset$pr.axis_aspect_ratio, probs=c(.25, .75), na.rm = FALSE)\nIQR <- IQR(dataset$pr.axis_aspect_ratio)\n\nLower <- quartiles[1] - 1.5*IQR\nUpper <- quartiles[2] + 1.5*IQR \n\ndata_no_outlier <- subset(dataset, dataset$pr.axis_aspect_ratio > Lower & dataset$pr.axis_aspect_ratio < Upper)\ndim(data_no_outlier)\n\n\n##max.length_aspect_ratio outliers is 5\n\nquartiles <- quantile(dataset$max.length_aspect_ratio, probs=c(.25, .75), na.rm = FALSE)\nIQR <- IQR(dataset$max.length_aspect_ratio)\n\nLower <- quartiles[1] - 1.5*IQR\nUpper <- quartiles[2] + 1.5*IQR \n\ndata_no_outlier <- subset(dataset, dataset$max.length_aspect_ratio > Lower & dataset$max.length_aspect_ratio < Upper)\ndim(data_no_outlier)\n\n\n\n##scaled_variance outliers is 1\n\nquartiles <- quantile(dataset$scaled_variance, probs=c(.25, .75), na.rm = FALSE)\nIQR <- IQR(dataset$scaled_variance)\n\nLower <- quartiles[1] - 1.5*IQR\nUpper <- quartiles[2] + 1.5*IQR \n\ndata_no_outlier <- subset(dataset, dataset$scaled_variance > Lower & dataset$scaled_variance < Upper)\ndim(data_no_outlier)\n\n\n\n##scaled_variance.1 outliers is 2\n\nquartiles <- quantile(dataset$scaled_variance.1, probs=c(.25, .75), na.rm = FALSE)\nIQR <- IQR(dataset$scaled_variance.1)\n\nLower <- quartiles[1] - 1.5*IQR\nUpper <- quartiles[2] + 1.5*IQR \n\ndata_no_outlier <- subset(dataset, dataset$scaled_variance.1 > Lower & dataset$scaled_variance.1 < Upper)\ndim(data_no_outlier)\n\n\n\n##scaled_radius_of_gyration.1 is outliers is 10\n\nquartiles <- quantile(dataset$scaled_radius_of_gyration.1, probs=c(.25, .75), na.rm = FALSE)\nIQR <- IQR(dataset$scaled_variance.1)\n\nLower <- quartiles[1] - 1.5*IQR\nUpper <- quartiles[2] + 1.5*IQR \n\ndata_no_outlier <- subset(dataset, dataset$scaled_radius_of_gyration.1 > Lower & dataset$scaled_radius_of_gyration.1 < Upper)\ndim(data_no_outlier)\n\n\n##skewness_about is outliers is 3\n\nquartiles <- quantile(dataset$skewness_about, probs=c(.25, .75), na.rm = FALSE)\nIQR <- IQR(dataset$skewness_about)\n\nLower <- quartiles[1] - 1.5*IQR\nUpper <- quartiles[2] + 1.5*IQR \n\ndata_no_outlier <- subset(dataset, dataset$skewness_about > Lower & dataset$skewness_about < Upper)\ndim(data_no_outlier\n\n\n##skewness_about.1 is outliers is 3\n\nquartiles <- quantile(dataset$skewness_about.1, probs=c(.25, .75), na.rm = FALSE)\nIQR <- IQR(dataset$skewness_about.1)\n\nLower <- quartiles[1] - 1.5*IQR\nUpper <- quartiles[2] + 1.5*IQR \n\ndata_no_outlier <- subset(dataset, dataset$skewness_about.1 > Lower & dataset$skewness_about.1 < Upper)\ndim(data_no_outlier)",
      "metadata": {
        "trusted": true
      },
      "outputs": [],
      "execution_count": null
    },
    {
      "cell_type": "markdown",
      "source": "### Normalization:",
      "metadata": {}
    },
    {
      "cell_type": "markdown",
      "source": "### Data After pre-processing:",
      "metadata": {}
    },
    {
      "cell_type": "code",
      "source": "##Data before preprocessing\nhead(databeforereprossess)",
      "metadata": {
        "trusted": true
      },
      "outputs": [],
      "execution_count": null
    },
    {
      "cell_type": "code",
      "source": "##Lets take a look at our dataset after preprocessing\nhead(dataset)",
      "metadata": {
        "trusted": true
      },
      "outputs": [],
      "execution_count": null
    },
    {
      "cell_type": "markdown",
      "source": "In conclusion, our initial examination of the dataset involved several key steps. We began by identifying the attributes contained within the dataset, providing us with an understanding of the types of data we are working with. We gathered general information about the dataset and added some visualizations to provide a clearer and more intuitive understanding of the data.Then lastly we began the preprocessing stage, a critical phase , where we made only the necessary adjustments required to prepare the dataset for more advanced analyses. This ensured that our data was clean and reliable.",
      "metadata": {}
    }
  ]
}